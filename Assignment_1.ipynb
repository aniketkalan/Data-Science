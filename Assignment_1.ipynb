{
  "nbformat": 4,
  "nbformat_minor": 0,
  "metadata": {
    "colab": {
      "provenance": []
    },
    "kernelspec": {
      "name": "python3",
      "display_name": "Python 3"
    },
    "language_info": {
      "name": "python"
    }
  },
  "cells": [
    {
      "cell_type": "code",
      "execution_count": 17,
      "metadata": {
        "id": "ChMbfMzpK0Ka"
      },
      "outputs": [],
      "source": [
        "# Assignment 1"
      ]
    },
    {
      "cell_type": "code",
      "source": [
        "\"\"\"\n",
        "Q1. Create one variable containing following type of data:\n",
        "(i) string\n",
        "(ii) list\n",
        "(iii) float\n",
        "(iv) tuple\n",
        "\"\"\"\n",
        "var1 = \"Aniket\"\n",
        "var2 = [1,2,\"Test\", True]\n",
        "var3 = 3.14\n",
        "var4 = (1,10,100,200)"
      ],
      "metadata": {
        "id": "0bilQnSvMMVX"
      },
      "execution_count": 18,
      "outputs": []
    },
    {
      "cell_type": "code",
      "source": [
        "\"\"\"\n",
        "Q2. Given are some following variables containing data:\n",
        "(i) var1 = ‘ ‘\n",
        "(ii) var2 = ‘[ DS , ML , Python]’\n",
        "(iii) var3 = [ ‘DS’ , ’ML’ , ‘Python’ ]\n",
        "(iv) var4 = 1.\n",
        "What will be the data type of the above given variable.\n",
        "\"\"\"\n",
        "var1 = ' '  # type = str\n",
        "print(type(var1))\n",
        "var2 = '[ DS , ML , Python]'  # type = str\n",
        "print(type(var2))\n",
        "var3 = [ 'DS' , 'ML' , 'Python' ]  # type = list\n",
        "print(type(var3))\n",
        "var4 = 1.  # type = float\n",
        "print(type(var4))"
      ],
      "metadata": {
        "colab": {
          "base_uri": "https://localhost:8080/"
        },
        "id": "92BFHDGpYG-x",
        "outputId": "84c408ea-24c1-4cee-d396-2bb62b893814"
      },
      "execution_count": 21,
      "outputs": [
        {
          "output_type": "stream",
          "name": "stdout",
          "text": [
            "<class 'str'>\n",
            "<class 'str'>\n",
            "<class 'list'>\n",
            "<class 'float'>\n"
          ]
        }
      ]
    },
    {
      "cell_type": "code",
      "source": [
        "\"\"\"\n",
        "Q3. Explain the use of the following operators using an example:\n",
        "(i) /\n",
        "(ii) %\n",
        "(iii) //\n",
        "(iv) **\n",
        "\"\"\"\n",
        "# /  used to divide 2 numbers\n",
        "a = 10 / 3\n",
        "print(a)\n",
        "\n",
        "# % used to get reminder\n",
        "b = 10 % 3\n",
        "print(b)\n",
        "\n",
        "# // used to get integer part of division\n",
        "c = 10 // 3\n",
        "print(c)\n",
        "\n",
        "# **  used to return power of given number\n",
        "d = 10**3\n",
        "print(d)"
      ],
      "metadata": {
        "colab": {
          "base_uri": "https://localhost:8080/"
        },
        "id": "qYGYQ6_KYmIN",
        "outputId": "a17e2e59-cf0e-4d9f-e2b4-cc6aff14b312"
      },
      "execution_count": 23,
      "outputs": [
        {
          "output_type": "stream",
          "name": "stdout",
          "text": [
            "3.3333333333333335\n",
            "1\n",
            "3\n",
            "1000\n"
          ]
        }
      ]
    },
    {
      "cell_type": "code",
      "source": [
        "\"\"\"\n",
        "Q4. Create a list of length 10 of your choice containing multiple types of data. Using for loop print the\n",
        "element and its data type.\n",
        "\"\"\"\n",
        "\n",
        "a = [1, 10, 'Aniket', (1,2), [3,4] , 5+6j , 3.14, True, {'k1':'val1', 'k2' : 2}, \"pwskills\"]\n",
        "for vals in a:\n",
        "  print('Value = ', vals , ' Data Type = ' , type(vals))\n",
        ""
      ],
      "metadata": {
        "colab": {
          "base_uri": "https://localhost:8080/"
        },
        "id": "kOu2GUcCZNj5",
        "outputId": "ca146e1d-40f7-49f3-c1ad-3fb3f9ecfb39"
      },
      "execution_count": 25,
      "outputs": [
        {
          "output_type": "stream",
          "name": "stdout",
          "text": [
            "Value =  1  Data Type =  <class 'int'>\n",
            "Value =  10  Data Type =  <class 'int'>\n",
            "Value =  Aniket  Data Type =  <class 'str'>\n",
            "Value =  (1, 2)  Data Type =  <class 'tuple'>\n",
            "Value =  [3, 4]  Data Type =  <class 'list'>\n",
            "Value =  (5+6j)  Data Type =  <class 'complex'>\n",
            "Value =  3.14  Data Type =  <class 'float'>\n",
            "Value =  True  Data Type =  <class 'bool'>\n",
            "Value =  {'k1': 'val1', 'k2': 2}  Data Type =  <class 'dict'>\n",
            "Value =  pwskills  Data Type =  <class 'str'>\n"
          ]
        }
      ]
    },
    {
      "cell_type": "code",
      "source": [
        "\"\"\"\n",
        "Q5. Using a while loop, verify if the number A is purely divisible by number B and if so then how many\n",
        "times it can be divisible.\n",
        "\"\"\"\n",
        "# Initialise 2 numbers\n",
        "A = 144\n",
        "B = 2\n",
        "\n",
        "count = 0\n",
        "\n",
        "while A >= B and A % B == 0:\n",
        "    A = A // B\n",
        "    count += 1\n",
        "\n",
        "if count > 0:\n",
        "    print(f\"Number A is divisible by B {count} times.\")\n",
        "else:\n",
        "    print(\"Number A is not divisible by B.\")\n"
      ],
      "metadata": {
        "colab": {
          "base_uri": "https://localhost:8080/"
        },
        "id": "3t0OG8yEaAIG",
        "outputId": "e6470768-0f51-42c8-d82b-5548bc6e2b49"
      },
      "execution_count": 33,
      "outputs": [
        {
          "output_type": "stream",
          "name": "stdout",
          "text": [
            "Number A is divisible by B 4 times.\n"
          ]
        }
      ]
    },
    {
      "cell_type": "code",
      "source": [
        "\"\"\"\n",
        "Q6. Create a list containing 25 int type data. Using for loop and if-else condition print if the element is\n",
        "divisible by 3 or not.\n",
        "\"\"\"\n",
        "# declare a list containing 25 int data types\n",
        "l1 = [a*10 for a in range (1,26)]\n",
        "\n",
        "print(l1)\n",
        "\n",
        "for l in l1:\n",
        "  if l % 3 == 0 :\n",
        "    print(f'{l} is divisible by 3')\n",
        "  else:\n",
        "    print(f'{l} is NOT divisible by 3')\n",
        "\n"
      ],
      "metadata": {
        "colab": {
          "base_uri": "https://localhost:8080/"
        },
        "id": "4s71mr8IdHwf",
        "outputId": "a348c8b4-17d2-4d34-9ff4-1da787ec286d"
      },
      "execution_count": 38,
      "outputs": [
        {
          "output_type": "stream",
          "name": "stdout",
          "text": [
            "[10, 20, 30, 40, 50, 60, 70, 80, 90, 100, 110, 120, 130, 140, 150, 160, 170, 180, 190, 200, 210, 220, 230, 240, 250]\n",
            "10 is NOT divisible by 3\n",
            "20 is NOT divisible by 3\n",
            "30 is divisible by 3\n",
            "40 is NOT divisible by 3\n",
            "50 is NOT divisible by 3\n",
            "60 is divisible by 3\n",
            "70 is NOT divisible by 3\n",
            "80 is NOT divisible by 3\n",
            "90 is divisible by 3\n",
            "100 is NOT divisible by 3\n",
            "110 is NOT divisible by 3\n",
            "120 is divisible by 3\n",
            "130 is NOT divisible by 3\n",
            "140 is NOT divisible by 3\n",
            "150 is divisible by 3\n",
            "160 is NOT divisible by 3\n",
            "170 is NOT divisible by 3\n",
            "180 is divisible by 3\n",
            "190 is NOT divisible by 3\n",
            "200 is NOT divisible by 3\n",
            "210 is divisible by 3\n",
            "220 is NOT divisible by 3\n",
            "230 is NOT divisible by 3\n",
            "240 is divisible by 3\n",
            "250 is NOT divisible by 3\n"
          ]
        }
      ]
    },
    {
      "cell_type": "code",
      "source": [
        "\"\"\"\n",
        "Q7. What do you understand about mutable and immutable data types? Give examples for both showing\n",
        "this property.\n",
        "\"\"\"\n",
        "# Mutable - Mutable data types can be modified after they are created. Ex: Dictionary and List\n",
        "# Immutable - data types cannot be modified once created. Ex: String and Tuple\n",
        "\n",
        "# Mutable:\n",
        "l1 = [1,2,3,4]\n",
        "l1[2] = 100\n",
        "print(l1)  # [1,2,100,4]\n",
        "\n",
        "# Immutable:\n",
        "str1 = \"Aniket\"\n",
        "str1[2] = 'T' # will raise error\n",
        "print(str1)\n"
      ],
      "metadata": {
        "colab": {
          "base_uri": "https://localhost:8080/",
          "height": 252
        },
        "id": "HLbYEmVjd4CU",
        "outputId": "34c4fb83-7ed6-4602-b5b1-1bbac6085215"
      },
      "execution_count": 40,
      "outputs": [
        {
          "output_type": "stream",
          "name": "stdout",
          "text": [
            "[1, 2, 100, 4]\n"
          ]
        },
        {
          "output_type": "error",
          "ename": "TypeError",
          "evalue": "ignored",
          "traceback": [
            "\u001b[0;31m---------------------------------------------------------------------------\u001b[0m",
            "\u001b[0;31mTypeError\u001b[0m                                 Traceback (most recent call last)",
            "\u001b[0;32m<ipython-input-40-bb55a994cc56>\u001b[0m in \u001b[0;36m<cell line: 15>\u001b[0;34m()\u001b[0m\n\u001b[1;32m     13\u001b[0m \u001b[0;31m# Immutable:\u001b[0m\u001b[0;34m\u001b[0m\u001b[0;34m\u001b[0m\u001b[0m\n\u001b[1;32m     14\u001b[0m \u001b[0mstr1\u001b[0m \u001b[0;34m=\u001b[0m \u001b[0;34m\"Aniket\"\u001b[0m\u001b[0;34m\u001b[0m\u001b[0;34m\u001b[0m\u001b[0m\n\u001b[0;32m---> 15\u001b[0;31m \u001b[0mstr1\u001b[0m\u001b[0;34m[\u001b[0m\u001b[0;36m2\u001b[0m\u001b[0;34m]\u001b[0m \u001b[0;34m=\u001b[0m \u001b[0;34m'T'\u001b[0m\u001b[0;34m\u001b[0m\u001b[0;34m\u001b[0m\u001b[0m\n\u001b[0m\u001b[1;32m     16\u001b[0m \u001b[0mprint\u001b[0m\u001b[0;34m(\u001b[0m\u001b[0mstr1\u001b[0m\u001b[0;34m)\u001b[0m\u001b[0;34m\u001b[0m\u001b[0;34m\u001b[0m\u001b[0m\n\u001b[1;32m     17\u001b[0m \u001b[0;34m\u001b[0m\u001b[0m\n",
            "\u001b[0;31mTypeError\u001b[0m: 'str' object does not support item assignment"
          ]
        }
      ]
    },
    {
      "cell_type": "code",
      "source": [],
      "metadata": {
        "id": "-u0O7-3Ue0CI"
      },
      "execution_count": null,
      "outputs": []
    }
  ]
}
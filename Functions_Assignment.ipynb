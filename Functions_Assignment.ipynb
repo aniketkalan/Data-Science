{
  "nbformat": 4,
  "nbformat_minor": 0,
  "metadata": {
    "colab": {
      "provenance": []
    },
    "kernelspec": {
      "name": "python3",
      "display_name": "Python 3"
    },
    "language_info": {
      "name": "python"
    }
  },
  "cells": [
    {
      "cell_type": "code",
      "execution_count": 21,
      "metadata": {
        "colab": {
          "base_uri": "https://localhost:8080/"
        },
        "id": "BfNo_0HT0RdS",
        "outputId": "eb2fe660-bdf0-4df3-c03d-28fc03ab4ba3"
      },
      "outputs": [
        {
          "output_type": "execute_result",
          "data": {
            "text/plain": [
              "[1, 3, 5, 7, 9, 11, 13, 15, 17, 19, 21, 23]"
            ]
          },
          "metadata": {},
          "execution_count": 21
        }
      ],
      "source": [
        "\"\"\"\n",
        "Q1. Which keyword is used to create a function? Create a function to return a list of odd numbers in the\n",
        "range of 1 to 25.\n",
        "Ans : \"def\" keyword is used to create a function\n",
        "\"\"\"\n",
        "def fun1():\n",
        "  l1 = []\n",
        "  for i in range(1,25):\n",
        "    if i % 2 != 0:\n",
        "      l1.append(i)\n",
        "  return l1\n",
        "\n",
        "fun1()\n"
      ]
    },
    {
      "cell_type": "code",
      "source": [
        "\"\"\"\n",
        "Q2. Why *args and **kwargs is used in some functions? Create a function each for *args and **kwargs to\n",
        "demonstrate their use.\n",
        "Ans: Typycally functions are created as follows:\n",
        "def f(a, b):\n",
        "  return a + b\n",
        "above function will take 2 input parameters\n",
        "but there are some cases in which we do not know the number of input parameters in that case we use *args and **kwargs\n",
        "\"\"\"\n",
        "# 1 *args : This means function can have variable no of input parameters and returns tuple\n",
        "# Example :\n",
        "def fun1(*args):\n",
        "  print(args)\n",
        "\n",
        "fun1(1,2)\n",
        "fun1(1,2, 3, \"Test\", \"PWSKILLS\")\n",
        "\n",
        "# 2. **kwargs : It takes variable parameters in the form of key and value pair and returns dictionary\n",
        "# Example:\n",
        "def fun2 (**kwargs):\n",
        "  print(kwargs)\n",
        "\n",
        "fun2(a=1, b=2)\n",
        "fun2(a=1, b=2, c=[4,5,6], d = \"PWSKILLS\")"
      ],
      "metadata": {
        "colab": {
          "base_uri": "https://localhost:8080/"
        },
        "id": "FWyzpUamVXyB",
        "outputId": "4edfbec5-57e4-43ca-fc42-b4f891b77355"
      },
      "execution_count": 25,
      "outputs": [
        {
          "output_type": "stream",
          "name": "stdout",
          "text": [
            "(1, 2)\n",
            "(1, 2, 3, 'Test', 'PWSKILLS')\n",
            "{'a': 1, 'b': 2}\n",
            "{'a': 1, 'b': 2, 'c': [4, 5, 6], 'd': 'PWSKILLS'}\n"
          ]
        }
      ]
    },
    {
      "cell_type": "code",
      "source": [
        "\"\"\"\n",
        "Q3. What is an iterator in python? Name the method used to initialise the iterator object and the method\n",
        "used for iteration. Use these methods to print the first five elements of the given list [2, 4, 6, 8, 10, 12, 14, 16,\n",
        "18, 20].\n",
        "Ans : Iterator is an object which allows to iterate over sequence of obects like list tuple etc\n",
        "iter method is used to initialise the iterator object\n",
        "and next() method is used to fetch the value from the iterator object\n",
        "\"\"\"\n",
        "lst = [2, 4, 6, 8, 10, 12, 14, 16, 18, 20]\n",
        "obj = iter(lst)\n",
        "print(next(obj))\n",
        "print(next(obj))\n",
        "print(next(obj))\n",
        "print(next(obj))\n",
        "print(next(obj))\n",
        "\n"
      ],
      "metadata": {
        "colab": {
          "base_uri": "https://localhost:8080/"
        },
        "id": "HWzn0NgBdWK7",
        "outputId": "609a7189-b053-4211-c102-c8916d2921b1"
      },
      "execution_count": 27,
      "outputs": [
        {
          "output_type": "stream",
          "name": "stdout",
          "text": [
            "2\n",
            "4\n",
            "6\n",
            "8\n",
            "10\n"
          ]
        }
      ]
    },
    {
      "cell_type": "code",
      "source": [
        "\"\"\"\n",
        "Q4. What is a generator function in python? Why yield keyword is used? Give an example of a generator\n",
        "function.\n",
        "Ans : generator function is a function that generates sequencial values using yield keyword\n",
        "\"\"\"\n",
        "def my_gen(n):\n",
        "  for i in range(n):\n",
        "    yield i\n",
        "\n",
        "gen_obj = my_gen(5)\n",
        "\n",
        "print(next(gen_obj))\n",
        "print(next(gen_obj))\n",
        "print(next(gen_obj))\n",
        "print(next(gen_obj))\n",
        "print(next(gen_obj))\n",
        "\n"
      ],
      "metadata": {
        "colab": {
          "base_uri": "https://localhost:8080/"
        },
        "id": "7IpZORwAeeOE",
        "outputId": "d7a25116-a95f-4ca4-df00-e9acc8e0a670"
      },
      "execution_count": 33,
      "outputs": [
        {
          "output_type": "stream",
          "name": "stdout",
          "text": [
            "0\n",
            "1\n",
            "2\n",
            "3\n",
            "4\n"
          ]
        }
      ]
    },
    {
      "cell_type": "code",
      "source": [
        "\"\"\"\n",
        "Q5. Create a generator function for prime numbers less than 1000. Use the next() method to print the\n",
        "first 20 prime numbers.\n",
        "\"\"\"\n",
        "\n",
        "def gen_fun():\n",
        "  n = 1000\n",
        "  for i in range(2, n):\n",
        "    is_divisible = 'No'\n",
        "    for j in range(2,i):\n",
        "      if i % j == 0:\n",
        "        is_divisible = 'Yes'\n",
        "    if is_divisible == 'No':\n",
        "      yield i\n",
        "\n",
        "gen_obj = gen_fun()\n",
        "for i in range (20):\n",
        "  print (next(gen_obj))"
      ],
      "metadata": {
        "colab": {
          "base_uri": "https://localhost:8080/"
        },
        "id": "V7hxDvULfNzS",
        "outputId": "b3f743be-2d63-4d45-c554-8bb2650b0fea"
      },
      "execution_count": 37,
      "outputs": [
        {
          "output_type": "stream",
          "name": "stdout",
          "text": [
            "2\n",
            "3\n",
            "5\n",
            "7\n",
            "11\n",
            "13\n",
            "17\n",
            "19\n",
            "23\n",
            "29\n",
            "31\n",
            "37\n",
            "41\n",
            "43\n",
            "47\n",
            "53\n",
            "59\n",
            "61\n",
            "67\n",
            "71\n"
          ]
        }
      ]
    }
  ]
}
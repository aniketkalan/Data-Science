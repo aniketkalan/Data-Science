{
  "nbformat": 4,
  "nbformat_minor": 0,
  "metadata": {
    "colab": {
      "provenance": []
    },
    "kernelspec": {
      "name": "python3",
      "display_name": "Python 3"
    },
    "language_info": {
      "name": "python"
    }
  },
  "cells": [
    {
      "cell_type": "code",
      "execution_count": null,
      "metadata": {
        "colab": {
          "base_uri": "https://localhost:8080/"
        },
        "id": "BnL520SlQDcs",
        "outputId": "9bd5464d-cc3a-4222-f507-ab86a1dd5bd6"
      },
      "outputs": [
        {
          "output_type": "stream",
          "name": "stdout",
          "text": [
            "division by zero\n"
          ]
        }
      ],
      "source": [
        "\"\"\"\n",
        "Q1. What is an Exception in python? Write the differene between Exceptions and syntax errors\n",
        "Ans : An exception is an event that occurs during the execution of a program,\n",
        "      which disrupts the normal flow of the program's instructions.\n",
        "      It is a way to handle and manage errors or exceptional situations that may occur during runtime.\n",
        "\n",
        "Exception - It occurs run time. It can be caught and handled run time\n",
        "Synntax error - It occurs while writing a python code for example if we misspell any code\n",
        "\"\"\"\n",
        "\n",
        "# Exception example:\n",
        "try:\n",
        "  a = 10\n",
        "  b = a / 0\n",
        "except ZeroDivisionError as e:\n",
        "  print(e)\n",
        "\n",
        "# Syntax error:\n",
        "# printasds(abcd)   # name 'printasds' is not defined\n"
      ]
    },
    {
      "cell_type": "code",
      "source": [
        "\"\"\"\n",
        "Q2. What happens when an exception is not handled? Explain with an example\n",
        "Ans: When an exception is not handled, it results in an unhandled exception, causing the program to terminate and display an error message.\n",
        "\n",
        "\"\"\"\n",
        "\n",
        "a = 10\n",
        "b = 0\n",
        "c = a / b\n",
        "print(c)\n",
        "# As in above code 10 is divided by 0, code fails and raises ZeroDivisionError.\n",
        "#This error is not handled so program termintes and next code is not executed"
      ],
      "metadata": {
        "colab": {
          "base_uri": "https://localhost:8080/",
          "height": 235
        },
        "id": "5kUPNj9dRlXE",
        "outputId": "750db503-b424-4b07-b282-508cd0875903"
      },
      "execution_count": null,
      "outputs": [
        {
          "output_type": "error",
          "ename": "ZeroDivisionError",
          "evalue": "ignored",
          "traceback": [
            "\u001b[0;31m---------------------------------------------------------------------------\u001b[0m",
            "\u001b[0;31mZeroDivisionError\u001b[0m                         Traceback (most recent call last)",
            "\u001b[0;32m<ipython-input-7-1f9f3f9ef6b4>\u001b[0m in \u001b[0;36m<cell line: 9>\u001b[0;34m()\u001b[0m\n\u001b[1;32m      7\u001b[0m \u001b[0ma\u001b[0m \u001b[0;34m=\u001b[0m \u001b[0;36m10\u001b[0m\u001b[0;34m\u001b[0m\u001b[0;34m\u001b[0m\u001b[0m\n\u001b[1;32m      8\u001b[0m \u001b[0mb\u001b[0m \u001b[0;34m=\u001b[0m \u001b[0;36m0\u001b[0m\u001b[0;34m\u001b[0m\u001b[0;34m\u001b[0m\u001b[0m\n\u001b[0;32m----> 9\u001b[0;31m \u001b[0mc\u001b[0m \u001b[0;34m=\u001b[0m \u001b[0ma\u001b[0m \u001b[0;34m/\u001b[0m \u001b[0mb\u001b[0m\u001b[0;34m\u001b[0m\u001b[0;34m\u001b[0m\u001b[0m\n\u001b[0m\u001b[1;32m     10\u001b[0m \u001b[0mprint\u001b[0m\u001b[0;34m(\u001b[0m\u001b[0mc\u001b[0m\u001b[0;34m)\u001b[0m\u001b[0;34m\u001b[0m\u001b[0;34m\u001b[0m\u001b[0m\n\u001b[1;32m     11\u001b[0m \u001b[0;31m# As in above code 10 is divided by 0, code fails and raises ZeroDivisionError. This error is not handled so\u001b[0m\u001b[0;34m\u001b[0m\u001b[0;34m\u001b[0m\u001b[0m\n",
            "\u001b[0;31mZeroDivisionError\u001b[0m: division by zero"
          ]
        }
      ]
    },
    {
      "cell_type": "code",
      "source": [
        "\"\"\"\n",
        "Q3. Which Python statements are used to catch and handle exceptions? Explain with an example\n",
        "Ans : catch statement is used to handle the exception\n",
        "\n",
        "\"\"\"\n",
        "try:\n",
        "  with open(\"abcd.txt\" , 'r') as f:\n",
        "    f.read()\n",
        "except FileNotFoundError as e:\n",
        "  print(\"Error raised  - %s\" %e)"
      ],
      "metadata": {
        "colab": {
          "base_uri": "https://localhost:8080/"
        },
        "id": "HsnZV_NfSSV5",
        "outputId": "674f420e-1ac8-47f1-aadc-349d70ed6a45"
      },
      "execution_count": null,
      "outputs": [
        {
          "output_type": "stream",
          "name": "stdout",
          "text": [
            "Error raised  - [Errno 2] No such file or directory: 'abcd.txt'\n"
          ]
        }
      ]
    },
    {
      "cell_type": "code",
      "source": [
        "\"\"\"\n",
        "Q4. Explain with an example:\n",
        "\n",
        "a. try and else\n",
        "b. finally\n",
        "c. raise\n",
        "Ans :\n",
        "try : a block where we write a suspecius code which may or may not raise an exception\n",
        "else : this block gets executed if try block successfully completes its execution without raising an error\n",
        "finally : this block is always executed weather exception is raised or not in try block\n",
        "raise : it is used to raise a custom exception\n",
        "\"\"\"\n",
        "\n",
        "# try and else\n",
        "print('---------try and else-------')\n",
        "def divide(a,b):\n",
        "  return  a / b\n",
        "\n",
        "try:\n",
        "  c = divide (10, 5)\n",
        "  print(c)\n",
        "except Exception as e:\n",
        "  print(e)\n",
        "else:\n",
        "  print(\"In Else Block after Try block successfylly executed\")\n",
        "\n",
        "try:\n",
        "  c = divide (10, 0)\n",
        "  print(c)\n",
        "except Exception as e:\n",
        "  print(e)\n",
        "else:\n",
        "  print(\"Try block successfylly executed\")\n",
        "\n",
        "\n",
        "# finally\n",
        "print('---------finally-------')\n",
        "try:\n",
        "  with open('abcd.txt' , 'r') as f:\n",
        "    print(f.read())\n",
        "except FileNotFoundError as e:\n",
        "  print(e)\n",
        "finally:\n",
        "  print(\"This block will always execute\")\n",
        "\n",
        "\n",
        "# raise\n",
        "print('---------raise-------')\n",
        "class MyException(Exception):\n",
        "  def __init__(self,msg):\n",
        "    self.msg = msg\n",
        "\n",
        "try:\n",
        "  raise MyException(\"Raise command is used to raise this exception\")\n",
        "except MyException as e:\n",
        "  print(\"In custom exception - \" , e)"
      ],
      "metadata": {
        "colab": {
          "base_uri": "https://localhost:8080/"
        },
        "id": "62tdbz7BSwkd",
        "outputId": "1ddce288-beec-407e-9262-e1b33f0f76b4"
      },
      "execution_count": 2,
      "outputs": [
        {
          "output_type": "stream",
          "name": "stdout",
          "text": [
            "---------try and else-------\n",
            "2.0\n",
            "In Else Block after Try block successfylly executed\n",
            "division by zero\n",
            "---------finally-------\n",
            "[Errno 2] No such file or directory: 'abcd.txt'\n",
            "This block will always execute\n",
            "---------raise-------\n",
            "In custom exception -  Raise command is used to raise this exception\n"
          ]
        }
      ]
    },
    {
      "cell_type": "code",
      "source": [
        "\"\"\"\n",
        "Q5. What are Custom Exceptions in python? Why do we need Custom Exceptions? Explain with an example\n",
        "Ans : Custom exceptions are user defined exception created for specific purpose. In python we can create a class which extends Exception class and in this way we can create custom exception\n",
        "raise command is used to raise the custom exception.\n",
        "There are some cases where in the python code will run successfully but according to our business logic the expected outcome is not correct\n",
        "for example we take age as input from user. we typecast it to int, now user can enter any integer value but if user enters less than 0 or too high value like 200 300 etc\n",
        "then in these cases we need to raise an error and stop proceeding the following code. thats why custom exceptions are needed\n",
        "Example:\n",
        "\"\"\"\n",
        "class MyException(Exception):\n",
        "  def __init__(self,msg):\n",
        "    self.msg = msg\n",
        "\n",
        "def validateage(age):\n",
        "  if age < 0 :\n",
        "    raise MyException (\"Age shound not be less than 0\")\n",
        "  elif age > 100 :\n",
        "    raise MyException (\"Age is too high\")\n",
        "  else:\n",
        "    print(\"Age is valid\")\n",
        "#Case 1\n",
        "try:\n",
        "  age = int(input(\"Enter your age : \"))\n",
        "  validateage(age)\n",
        "except MyException as e:\n",
        "  print(e)\n",
        "#Case 2\n",
        "try:\n",
        "  age = int(input(\"Enter your age : \"))\n",
        "  validateage(age)\n",
        "except MyException as e:\n",
        "  print(e)\n",
        "#Case 3\n",
        "try:\n",
        "  age = int(input(\"Enter your age : \"))\n",
        "  validateage(age)\n",
        "except MyException as e:\n",
        "  print(e)\n"
      ],
      "metadata": {
        "id": "iXvzSg4HSvKp",
        "colab": {
          "base_uri": "https://localhost:8080/"
        },
        "outputId": "f0dea23d-c4d2-42c0-9503-6e5c1a72cf75"
      },
      "execution_count": 4,
      "outputs": [
        {
          "output_type": "stream",
          "name": "stdout",
          "text": [
            "Enter your age : -123\n",
            "Age shound not be less than 0\n",
            "Enter your age : 152\n",
            "Age is too high\n",
            "Enter your age : 30\n",
            "Age is valid\n"
          ]
        }
      ]
    },
    {
      "cell_type": "code",
      "source": [
        "\"\"\"\n",
        "Q6. Create a custom exception class. Use this class to handle an exception\n",
        "\"\"\"\n",
        "class MyException(Exception):\n",
        "  def __init__(self,msg):\n",
        "    self.msg = msg\n",
        "\n",
        "def validateEmail(email):\n",
        "  if '@' not in email :\n",
        "    raise MyException (\"Email id must contain @\")\n",
        "  elif '.' not in email :\n",
        "    raise MyException (\"Email id must contain a dot (.)\")\n",
        "  else:\n",
        "    print(\"Email is valid\")\n",
        "#Case 1\n",
        "try:\n",
        "  email = input(\"Enter your email address : \")\n",
        "  validateEmail(email)\n",
        "except MyException as e:\n",
        "  print(e)\n",
        "#Case 2\n",
        "try:\n",
        "  email = input(\"Enter your email address : \")\n",
        "  validateEmail(email)\n",
        "except MyException as e:\n",
        "  print(e)\n",
        "#Case 3\n",
        "try:\n",
        "  email = input(\"Enter your email address : \")\n",
        "  validateEmail(email)\n",
        "except MyException as e:\n",
        "  print(e)\n"
      ],
      "metadata": {
        "colab": {
          "base_uri": "https://localhost:8080/"
        },
        "id": "2sxHJzG-37tY",
        "outputId": "3a0fdeff-699f-4db3-fd07-fac0778273b8"
      },
      "execution_count": 5,
      "outputs": [
        {
          "output_type": "stream",
          "name": "stdout",
          "text": [
            "Enter your email address : aniket\n",
            "Email id must contain @\n",
            "Enter your email address : aniket@gmail\n",
            "Email id must contain a dot (.)\n",
            "Enter your email address : aniket@gmail.com\n",
            "Email is valid\n"
          ]
        }
      ]
    }
  ]
}
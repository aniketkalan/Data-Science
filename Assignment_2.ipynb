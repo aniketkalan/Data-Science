{
  "nbformat": 4,
  "nbformat_minor": 0,
  "metadata": {
    "colab": {
      "provenance": []
    },
    "kernelspec": {
      "name": "python3",
      "display_name": "Python 3"
    },
    "language_info": {
      "name": "python"
    }
  },
  "cells": [
    {
      "cell_type": "code",
      "source": [
        "\"\"\"\n",
        "Q1. How do you comment code in Python? What are the different types of comments?\n",
        "Ans :\n",
        "\n",
        "There are two ways in which we can give a comment in python\n",
        "1. Single line comment : This can be given using #\n",
        "  Ex:\n",
        "  # This is a comment\n",
        "\"\"\"\n",
        "#2. Multi line comment : This can be given using 3 double qoutes\n",
        "   #Example:\n",
        "\"\"\"\n",
        "This is comment 1\n",
        "This is comment 2\n",
        "This is comment 3\n",
        "\"\"\"\n",
        "\n"
      ],
      "metadata": {
        "id": "QJzIqUavvMKK"
      },
      "execution_count": null,
      "outputs": []
    },
    {
      "cell_type": "code",
      "source": [
        "\"\"\"\n",
        "Q2. What are variables in Python? How do you declare and assign values to variables?\n",
        "Ans : A Python variable is a symbolic name that is a reference or pointer to an object.\n",
        "Once an object is assigned to a variable, you can refer to the object by that name.\n",
        "But the data itself is still contained within the object.\n",
        "Example :\n",
        "\"\"\"\n",
        "var1 = 123\n",
        "print(type (var1))\n",
        "var2 = True\n",
        "print(type (var2))\n",
        "var3 = \"123\"\n",
        "print(type (var3))\n",
        "var4 = 123.456\n",
        "print(type (var4))\n"
      ],
      "metadata": {
        "colab": {
          "base_uri": "https://localhost:8080/"
        },
        "id": "PYkn4snxwB7F",
        "outputId": "f05d8f92-e8d6-4d97-b3a9-d56f874e1fa5"
      },
      "execution_count": 6,
      "outputs": [
        {
          "output_type": "stream",
          "name": "stdout",
          "text": [
            "<class 'int'>\n",
            "<class 'bool'>\n",
            "<class 'str'>\n",
            "<class 'float'>\n"
          ]
        }
      ]
    },
    {
      "cell_type": "code",
      "source": [
        "\"\"\"\n",
        "Q3. How do you convert one data type to another in Python?\n",
        "Ans :\n",
        "\"\"\"\n",
        "#Example 1 :\n",
        "# declare a int variable\n",
        "var1 = 100\n",
        "\n",
        "#convert it into string\n",
        "var2 = str(var1)\n",
        "\n",
        "print(type(var1), type(var2))\n",
        "\n",
        "#Example 2 :\n",
        "# declare a list\n",
        "var1 = [1,2,3,4,5]\n",
        "\n",
        "#convert it into set\n",
        "var2 = set(var1)\n",
        "\n",
        "print(type(var1), type(var2))"
      ],
      "metadata": {
        "colab": {
          "base_uri": "https://localhost:8080/"
        },
        "id": "qpj0G4ekwji2",
        "outputId": "3dc00498-4588-44c8-9afb-234511c89d23"
      },
      "execution_count": 8,
      "outputs": [
        {
          "output_type": "stream",
          "name": "stdout",
          "text": [
            "<class 'int'> <class 'str'>\n",
            "<class 'list'> <class 'set'>\n"
          ]
        }
      ]
    },
    {
      "cell_type": "code",
      "source": [
        "\"\"\"\n",
        "Q4. How do you write and execute a Python script from the command line?\n",
        "Ans :\n",
        "First we create a python script in a file example :\n",
        "1. Create file : MyCode.py\n",
        "2. Add your code in that file :\n",
        "3. Go to command line and write python space file name\n",
        "  Ex : python MyCode.py\n",
        "\n",
        "  This command will execute the python script from the command line\n",
        "\n",
        "\"\"\""
      ],
      "metadata": {
        "id": "SyAjLwWWxPqU"
      },
      "execution_count": null,
      "outputs": []
    },
    {
      "cell_type": "code",
      "source": [
        "\"\"\"\n",
        "Q5. Given a list my_list = [1, 2, 3, 4, 5], write the code to slice the list and obtain the sub-list [2, 3].\n",
        "\n",
        "\"\"\"\n",
        "\n",
        "my_list = [1, 2, 3, 4, 5]\n",
        "sub_list = my_list [1:3]\n",
        "print(sub_list)\n"
      ],
      "metadata": {
        "colab": {
          "base_uri": "https://localhost:8080/"
        },
        "id": "cnio8gy1xPz-",
        "outputId": "a1769193-d5ab-4c5e-f856-31b75bfb6d82"
      },
      "execution_count": 10,
      "outputs": [
        {
          "output_type": "stream",
          "name": "stdout",
          "text": [
            "[2, 3]\n"
          ]
        }
      ]
    },
    {
      "cell_type": "code",
      "source": [
        "\"\"\"\n",
        "Q6. What is a complex number in mathematics, and how is it represented in Python?\n",
        "Ans : Complex number is a number which contains two parts, real and imaginory part\n",
        "Example :\n",
        "3 + 4j\n",
        "10 + 20j\n",
        "\n",
        "In above example 3 and 10 are real parts and 4j and 20j are imaginary  part\n",
        "\n",
        "imaginary  parts are represented using \"j\"\n",
        "\n",
        "\"\"\"\n",
        "var1 = 3 + 4j\n",
        "print(type(var1))\n"
      ],
      "metadata": {
        "colab": {
          "base_uri": "https://localhost:8080/"
        },
        "id": "Q4DN0IJPx3a_",
        "outputId": "ee653398-bdb0-47a0-a90d-a8f38cc5c75d"
      },
      "execution_count": 11,
      "outputs": [
        {
          "output_type": "stream",
          "name": "stdout",
          "text": [
            "<class 'complex'>\n"
          ]
        }
      ]
    },
    {
      "cell_type": "code",
      "source": [
        "\"\"\"\n",
        "Q7. What is the correct way to declare a variable named age and assign the value 25 to it?\n",
        "\n",
        "\"\"\"\n",
        "age = 25\n",
        "age\n"
      ],
      "metadata": {
        "colab": {
          "base_uri": "https://localhost:8080/"
        },
        "id": "e3Bg6AyyySIu",
        "outputId": "c6f0298e-d6e1-43ac-ce49-71d7b28092b9"
      },
      "execution_count": 14,
      "outputs": [
        {
          "output_type": "execute_result",
          "data": {
            "text/plain": [
              "25"
            ]
          },
          "metadata": {},
          "execution_count": 14
        }
      ]
    },
    {
      "cell_type": "code",
      "source": [
        "\"\"\"\n",
        "Q8. Declare a variable named price and assign the value 9.99 to it. What data type does this variable\n",
        "belong to?\n",
        "Ans : float\n",
        "\"\"\"\n",
        "price = 9.99\n",
        "type(price)"
      ],
      "metadata": {
        "colab": {
          "base_uri": "https://localhost:8080/"
        },
        "id": "0XfLANItyaek",
        "outputId": "5414c51e-0a4d-4bf2-f8a8-763a9fbcb5ae"
      },
      "execution_count": 15,
      "outputs": [
        {
          "output_type": "execute_result",
          "data": {
            "text/plain": [
              "float"
            ]
          },
          "metadata": {},
          "execution_count": 15
        }
      ]
    },
    {
      "cell_type": "code",
      "source": [
        "\"\"\"\n",
        "Q9. Create a variable named name and assign your full name to it as a string. How would you print the\n",
        "value of this variable?\n",
        "Ans : using print function we can display tha value of variable\n",
        "\"\"\"\n",
        "\n",
        "name = \"Aniket Arun Kalan\"\n",
        "print(name)\n"
      ],
      "metadata": {
        "colab": {
          "base_uri": "https://localhost:8080/"
        },
        "id": "GxuwZb2OyjiX",
        "outputId": "1a67032f-7bd8-443d-cfca-b19a6b08c78d"
      },
      "execution_count": 16,
      "outputs": [
        {
          "output_type": "stream",
          "name": "stdout",
          "text": [
            "Aniket Arun Kalan\n"
          ]
        }
      ]
    },
    {
      "cell_type": "code",
      "source": [
        "\"\"\"\n",
        "Q10. Given the string \"Hello, World!\", extract the substring \"World\".\n",
        "Ans : we can use slicing to get the substring \"World\" from string \"Hello, World!\"\n",
        "In python, indexing starts with 0, and letter H in above string is present at index 7\n",
        "So starting of the slicing will be 7\n",
        "then letter d is at index 11 but in python in slicing last index is not returned so we will write 12 so that letter at index 11 will also be returned\n",
        "Example :\n",
        "\"\"\"\n",
        "str1 = \"Hello, World!\"\n",
        "print(str1[7:12])\n"
      ],
      "metadata": {
        "colab": {
          "base_uri": "https://localhost:8080/"
        },
        "id": "7CLIBMwByynU",
        "outputId": "24ac8aa9-9db0-4db3-dc89-ca03f37d4502"
      },
      "execution_count": 19,
      "outputs": [
        {
          "output_type": "stream",
          "name": "stdout",
          "text": [
            "World\n"
          ]
        }
      ]
    },
    {
      "cell_type": "code",
      "source": [
        "\"\"\"\n",
        "Q11. Create a variable named \"is_student\" and assign it a boolean value indicating whether you are\n",
        "currently a student or not.\n",
        "\"\"\"\n",
        "is_student = True\n",
        "type(is_student)\n"
      ],
      "metadata": {
        "colab": {
          "base_uri": "https://localhost:8080/"
        },
        "id": "vXpcmEe-zbzU",
        "outputId": "02fa0f65-256e-4238-84ea-124ac2d5a095"
      },
      "execution_count": 20,
      "outputs": [
        {
          "output_type": "execute_result",
          "data": {
            "text/plain": [
              "bool"
            ]
          },
          "metadata": {},
          "execution_count": 20
        }
      ]
    }
  ]
}
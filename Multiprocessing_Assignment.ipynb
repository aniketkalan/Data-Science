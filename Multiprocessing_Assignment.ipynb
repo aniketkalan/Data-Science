{
  "nbformat": 4,
  "nbformat_minor": 0,
  "metadata": {
    "colab": {
      "provenance": []
    },
    "kernelspec": {
      "name": "python3",
      "display_name": "Python 3"
    },
    "language_info": {
      "name": "python"
    }
  },
  "cells": [
    {
      "cell_type": "code",
      "execution_count": null,
      "metadata": {
        "id": "qHbSd7_W5Hxt"
      },
      "outputs": [],
      "source": [
        "\"\"\"\n",
        "Q1. What is multiprocessing in python? Why is it useful?\n",
        "Ans :  In Python, multiprocessing is a module that allows the execution of multiple processes concurrently.\n",
        "      Each process has its own memory space, allowing for true parallel execution on systems with multiple CPU cores.\n",
        "Some key points highlighting the usefulness of multiprocessing in Python:\n",
        "1. Multiprocessing enables the execution of multiple processes simultaneously, taking advantage of the available CPU cores\n",
        "2. By utilizing multiple processes, multiprocessing can significantly enhance the performance of CPU-bound tasks.\n",
        "3. Multiprocessing helps improve the responsiveness of applications by offloading computationally intensive tasks to separate processes\n",
        "4.  Each process in multiprocessing has its own memory space, ensuring isolation between processes. If one process encounters an error or crashes, it does not affect other processes.\n",
        "\n",
        "\"\"\""
      ]
    },
    {
      "cell_type": "code",
      "source": [
        "\"\"\"\n",
        "Q2. What are the differences between multiprocessing and multithreading?\n",
        "Ans :\n",
        "    Multiprocessing                           Multithreading\n",
        "1.  Multiple processes are created            Multiple threads are created\n",
        "2.  Each process runs its wn seperate         All threads share the same memory space and resources of the process\n",
        "    memory space\n",
        "3.  Ensure isolation and fault-tolerance      More efficient communication and sharing of data between threads\n",
        "4.  Inter-process communication (IPC)         Threads in multithreading can communicate more easily through shared memory\n",
        "    mechanisms such as pipes, queues,\n",
        "    shared memory, and sockets are used\n",
        "    for communication between processes.\n",
        "\n",
        "\"\"\""
      ],
      "metadata": {
        "id": "sqJrlbfV6DzI"
      },
      "execution_count": null,
      "outputs": []
    },
    {
      "cell_type": "code",
      "source": [
        "\"\"\"\n",
        "Q3. Write a python code to create a process using the multiprocessing module.\n",
        "\"\"\"\n",
        "\n",
        "import multiprocessing\n",
        "def square (num):\n",
        "  print('Square of %i = %i ' %(num, num ** 2))\n",
        "\n",
        "if __name__ == '__main__':\n",
        "  process = multiprocessing.Process(target = square, args = (5,))\n",
        "  process.start()\n",
        "  process.join\n",
        "\n"
      ],
      "metadata": {
        "colab": {
          "base_uri": "https://localhost:8080/"
        },
        "id": "xezeEd8Y7uxy",
        "outputId": "9e8b7de6-f64e-4e2b-9f01-3e02934099ae"
      },
      "execution_count": 4,
      "outputs": [
        {
          "output_type": "stream",
          "name": "stdout",
          "text": [
            "Square of 5 = 25 \n"
          ]
        }
      ]
    },
    {
      "cell_type": "code",
      "source": [
        "\"\"\"\n",
        "Q4. What is a multiprocessing pool in python? Why is it used?\n",
        "Ans : The multiprocessing.Pool class offers a high-level interface for distributing work among a fixed number of worker processes.\n",
        "      It provides methods to submit tasks to the pool, which are then executed concurrently by the available worker processes\n",
        "Example:\n",
        "\"\"\"\n",
        "import multiprocessing\n",
        "def cube(num):\n",
        "  return num **3\n",
        "\n",
        "if __name__ == '__main__':\n",
        "  pool = multiprocessing.Pool(processes = 5)\n",
        "  out = pool.map(cube , [1,2,3,4,5,6,7,8,9])\n",
        "  print(out)\n",
        "  pool.close()\n",
        "  pool.join()\n"
      ],
      "metadata": {
        "colab": {
          "base_uri": "https://localhost:8080/"
        },
        "id": "sM0hgmcM8zPq",
        "outputId": "cda91978-621b-47e9-daae-d3f34e4852eb"
      },
      "execution_count": 5,
      "outputs": [
        {
          "output_type": "stream",
          "name": "stdout",
          "text": [
            "[1, 8, 27, 64, 125, 216, 343, 512, 729]\n"
          ]
        }
      ]
    },
    {
      "cell_type": "code",
      "source": [
        "\"\"\"\n",
        "Q5. How can we create a pool of worker processes in python using the multiprocessing module?\n",
        "Ans : in python multiprocessing.Pool can be used to create number of processes\n",
        "\"\"\"\n",
        "import multiprocessing\n",
        "def square(num):\n",
        "  return num **2\n",
        "\n",
        "if __name__ == '__main__':\n",
        "  pool = multiprocessing.Pool(processes = 5)\n",
        "  out = pool.map(square , [1,2,3,4,5,6,7,8,9])\n",
        "  print(out)\n",
        "  pool.close()\n",
        "  pool.join()"
      ],
      "metadata": {
        "colab": {
          "base_uri": "https://localhost:8080/"
        },
        "id": "Mu3xT8NS94EC",
        "outputId": "724cb887-7814-4cf1-8e0e-b1b789e83ba8"
      },
      "execution_count": 6,
      "outputs": [
        {
          "output_type": "stream",
          "name": "stdout",
          "text": [
            "[1, 4, 9, 16, 25, 36, 49, 64, 81]\n"
          ]
        }
      ]
    },
    {
      "cell_type": "code",
      "source": [
        "\"\"\"\n",
        "Q6. Write a python program to create 4 processes, each process should print a different number using the\n",
        "multiprocessing module in python.\n",
        "\"\"\"\n",
        "def print_num(num):\n",
        "  print('Number - %i' %num)\n",
        "\n",
        "if __name__ == '__main__':\n",
        "  process1 = multiprocessing.Process(target = print_num, args = (2,))\n",
        "  process2 = multiprocessing.Process(target = print_num, args = (4,))\n",
        "  process3 = multiprocessing.Process(target = print_num, args = (6,))\n",
        "  process4 = multiprocessing.Process(target = print_num, args = (8,))\n",
        "\n",
        "  process1.start()\n",
        "  process2.start()\n",
        "  process3.start()\n",
        "  process4.start()\n",
        "\n",
        "  process1.join()\n",
        "  process2.join()\n",
        "  process3.join()\n",
        "  process4.join()\n"
      ],
      "metadata": {
        "colab": {
          "base_uri": "https://localhost:8080/"
        },
        "id": "JRfBvKtE97TQ",
        "outputId": "373075d5-1565-4e9a-912d-558ecfa8b7f6"
      },
      "execution_count": 11,
      "outputs": [
        {
          "output_type": "stream",
          "name": "stdout",
          "text": [
            "Number - 2\n",
            "Number - 4\n",
            "Number - 6\n",
            "Number - 8\n"
          ]
        }
      ]
    }
  ]
}
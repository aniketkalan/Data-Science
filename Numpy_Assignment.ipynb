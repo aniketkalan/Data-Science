{
  "nbformat": 4,
  "nbformat_minor": 0,
  "metadata": {
    "colab": {
      "provenance": []
    },
    "kernelspec": {
      "name": "python3",
      "display_name": "Python 3"
    },
    "language_info": {
      "name": "python"
    }
  },
  "cells": [
    {
      "cell_type": "code",
      "execution_count": 29,
      "metadata": {
        "id": "K2uEK0gVLHsc"
      },
      "outputs": [],
      "source": [
        "import numpy as np\n",
        "list_ = [ '1' , '2' , '3' , '4' , '5' ]\n",
        "array_list = np.array(object = list_)"
      ]
    },
    {
      "cell_type": "code",
      "source": [
        "\"\"\"\n",
        "Q1. Is there any difference in the data type of variables list_ and array_list? If there is then write a code\n",
        "to print the data types of both the variables.\n",
        "Ans : Yes, there is a difference in the data type of the variables list_ and array_list.\n",
        "      list_ is a Python list, which can contain elements of any data type.\n",
        "      array_list is a NumPy array, which can only contain elements of the same data type.\n",
        "      In this case all elements of list_ are of string and data type of array_list is '<U1' - Unicode string\n",
        "\"\"\"\n",
        "print(type(list_))\n",
        "print(type(array_list))\n",
        "array_list"
      ],
      "metadata": {
        "colab": {
          "base_uri": "https://localhost:8080/"
        },
        "id": "oodGUxDbLqTk",
        "outputId": "38ba7928-6816-4e7a-91db-9fe76a398ef6"
      },
      "execution_count": 30,
      "outputs": [
        {
          "output_type": "stream",
          "name": "stdout",
          "text": [
            "<class 'list'>\n",
            "<class 'numpy.ndarray'>\n"
          ]
        },
        {
          "output_type": "execute_result",
          "data": {
            "text/plain": [
              "array(['1', '2', '3', '4', '5'], dtype='<U1')"
            ]
          },
          "metadata": {},
          "execution_count": 30
        }
      ]
    },
    {
      "cell_type": "code",
      "source": [
        "\"\"\"\n",
        "Q2. Write a code to print the data type of each and every element of both the variables list_ and\n",
        "arra_list.\n",
        "\"\"\"\n",
        "print(\"Data type of each and every element of list_\")\n",
        "for var in list_:\n",
        "  print(var , type (var))\n",
        "\n",
        "print(\"Data type of each and every element of array_list\")\n",
        "for var in array_list:\n",
        "  print(var , type (var))\n"
      ],
      "metadata": {
        "colab": {
          "base_uri": "https://localhost:8080/"
        },
        "id": "d4FRfEf-L_sG",
        "outputId": "db9ac995-916f-4c4d-9405-cfb9dcc23b46"
      },
      "execution_count": 20,
      "outputs": [
        {
          "output_type": "stream",
          "name": "stdout",
          "text": [
            "Data type of each and every element of list_\n",
            "1 <class 'str'>\n",
            "2 <class 'str'>\n",
            "3 <class 'str'>\n",
            "4 <class 'str'>\n",
            "5 <class 'str'>\n",
            "Data type of each and every element of array_list\n",
            "1 <class 'numpy.str_'>\n",
            "2 <class 'numpy.str_'>\n",
            "3 <class 'numpy.str_'>\n",
            "4 <class 'numpy.str_'>\n",
            "5 <class 'numpy.str_'>\n"
          ]
        }
      ]
    },
    {
      "cell_type": "code",
      "source": [
        "\"\"\"\n",
        "Q3. Considering the following changes in the variable, array_list:\n",
        "\n",
        "array_list = np.array(object = list_, dtype = int)\n",
        "\n",
        "Will there be any difference in the data type of the elements present in both the variables, list_ and\n",
        "arra_list? If so then print the data types of each and every element present in both the variables, list_\n",
        "and arra_list.\n",
        "\n",
        "Ans : Yes there will be the difference in the data type of the elements present in both variables, list_ and array list:\n",
        "      The elements in the variable list_ will have data type as \"string\" and\n",
        "      The elements in the variable array_list will have data type as \"int\" and\n",
        "\"\"\"\n",
        "array_list = np.array(object = list_, dtype = int)\n",
        "\n",
        "print(\"Data type of each and every element of list_\")\n",
        "for var in list_:\n",
        "  print(var , type (var))\n",
        "\n",
        "print(\"Data type of each and every element of array_list\")\n",
        "for var in array_list:\n",
        "  print(var , type (var))\n",
        "\n",
        "print(\"\"\"\n",
        "The elements in the variable list_ will have data type as \"string\" and\n",
        "The elements in the variable array_list will have data type as \"int\" and\n",
        "\"\"\")"
      ],
      "metadata": {
        "colab": {
          "base_uri": "https://localhost:8080/"
        },
        "id": "e02el0_eMxcd",
        "outputId": "8600d663-0e8b-4e85-cba3-98203029afa9"
      },
      "execution_count": 32,
      "outputs": [
        {
          "output_type": "stream",
          "name": "stdout",
          "text": [
            "Data type of each and every element of list_\n",
            "1 <class 'str'>\n",
            "2 <class 'str'>\n",
            "3 <class 'str'>\n",
            "4 <class 'str'>\n",
            "5 <class 'str'>\n",
            "Data type of each and every element of array_list\n",
            "1 <class 'numpy.int64'>\n",
            "2 <class 'numpy.int64'>\n",
            "3 <class 'numpy.int64'>\n",
            "4 <class 'numpy.int64'>\n",
            "5 <class 'numpy.int64'>\n",
            "\n",
            "The elements in the variable list_ will have data type as \"string\" and\n",
            "The elements in the variable array_list will have data type as \"int\" and\n",
            "\n"
          ]
        }
      ]
    },
    {
      "cell_type": "code",
      "source": [
        "#Consider the below code to answer further questions:\n",
        "import numpy as np\n",
        "num_list = [ [ 1 , 2 , 3 ] , [ 4 , 5 , 6 ] ]\n",
        "num_array = np.array(object = num_list)"
      ],
      "metadata": {
        "id": "NUDUatcgOVI1"
      },
      "execution_count": 33,
      "outputs": []
    },
    {
      "cell_type": "code",
      "source": [
        "\"\"\"\n",
        "Q4. Write a code to find the following characteristics of variable, num_array:\n",
        "(i) shape\n",
        "(ii) size\n",
        "Ans : (i) Shape function returns a tuple that contains the dimensions of the array ( number of rows , number of columns)\n",
        "      (ii) Size function returns the count of elements prsent in the array\n",
        "\"\"\"\n",
        "print(\"Shape of num_array =\", num_array.shape)\n",
        "print(\"Size of num_array =\", num_array.size)"
      ],
      "metadata": {
        "colab": {
          "base_uri": "https://localhost:8080/"
        },
        "id": "oQA34GtnQSAA",
        "outputId": "d5761508-b4a2-4b06-f8b7-411622c1dc93"
      },
      "execution_count": 36,
      "outputs": [
        {
          "output_type": "stream",
          "name": "stdout",
          "text": [
            "Shape of num_array = (2, 3)\n",
            "Size of num_array = 6\n"
          ]
        }
      ]
    },
    {
      "cell_type": "code",
      "source": [
        "\"\"\"\n",
        "Q5. Write a code to create numpy array of 3*3 matrix containing zeros only, using a numpy array\n",
        "creation function.\n",
        "[Hint: The size of the array will be 9 and the shape will be (3,3).]\n",
        "Ans : numpy array which contains only zeros can be created using np.zeros function but using numpy array creation function it can be created as below:\n",
        "\"\"\"\n",
        "#arr1 = np.zeros((3,3))\n",
        "zeros = [0,0,0]\n",
        "l1 = [zeros, zeros, zeros]\n",
        "print(l1)\n",
        "arr1 = np.array(l1)\n",
        "print(arr1)\n",
        "print(\"Shape of arr1 =\", arr1.shape)\n",
        "print(\"Size of arr1 =\", arr1.size)"
      ],
      "metadata": {
        "colab": {
          "base_uri": "https://localhost:8080/"
        },
        "id": "e943vglpQZor",
        "outputId": "c47d92f2-e29d-4fdc-d9be-bd1af4253fd0"
      },
      "execution_count": 41,
      "outputs": [
        {
          "output_type": "stream",
          "name": "stdout",
          "text": [
            "[[0, 0, 0], [0, 0, 0], [0, 0, 0]]\n",
            "[[0 0 0]\n",
            " [0 0 0]\n",
            " [0 0 0]]\n",
            "Shape of arr1 = (3, 3)\n",
            "Size of arr1 = 9\n"
          ]
        }
      ]
    },
    {
      "cell_type": "code",
      "source": [
        "\"\"\"\n",
        "Q6. Create an identity matrix of shape (5,5) using numpy functions?\n",
        "[Hint: An identity matrix is a matrix containing 1 diagonally and other elements will be 0.]\n",
        "\"\"\"\n",
        "identity_matrix = np.eye(5,5)\n",
        "print(identity_matrix)\n"
      ],
      "metadata": {
        "colab": {
          "base_uri": "https://localhost:8080/"
        },
        "id": "1rFDkGsiRKn-",
        "outputId": "b836c538-44fa-47ac-bbb4-5ce7bd5b37c2"
      },
      "execution_count": 42,
      "outputs": [
        {
          "output_type": "stream",
          "name": "stdout",
          "text": [
            "[[1. 0. 0. 0. 0.]\n",
            " [0. 1. 0. 0. 0.]\n",
            " [0. 0. 1. 0. 0.]\n",
            " [0. 0. 0. 1. 0.]\n",
            " [0. 0. 0. 0. 1.]]\n"
          ]
        }
      ]
    },
    {
      "cell_type": "code",
      "source": [],
      "metadata": {
        "id": "ejZxDNGGR7-7"
      },
      "execution_count": null,
      "outputs": []
    }
  ]
}
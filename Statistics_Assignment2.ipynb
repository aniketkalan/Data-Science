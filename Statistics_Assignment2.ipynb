{
  "nbformat": 4,
  "nbformat_minor": 0,
  "metadata": {
    "colab": {
      "provenance": []
    },
    "kernelspec": {
      "name": "python3",
      "display_name": "Python 3"
    },
    "language_info": {
      "name": "python"
    }
  },
  "cells": [
    {
      "cell_type": "code",
      "source": [
        "\"\"\"\n",
        "Q1. What are the three measures of central tendency?\n",
        "Ans :\n",
        "The three measures of central tendency are:\n",
        "1. Mean: The mean is the average of a set of numbers.\n",
        "          It is calculated by adding up all the values in the dataset and then dividing the sum by the total number of values.\n",
        "          The mean can be affected by outliers, as they can significantly skew the average.\n",
        "\n",
        "2. Median: The median is the middle value in a dataset when the values are arranged in ascending or descending order.\n",
        "            If there's an odd number of values, the median is the middle one.\n",
        "            If there's an even number of values, the median is the average of the two middle values.\n",
        "            The median is less affected by outliers compared to the mean, making it a more robust measure of central tendency in the presence of extreme values.\n",
        "\n",
        "3. Mode: The mode is the value that appears most frequently in a dataset.\n",
        "          A dataset can have no mode (when all values are unique) or multiple modes (when more than one value occurs with the highest frequency).\n",
        "          The mode is useful for categorical or discrete data where you're interested in finding the most common category or value.\n",
        "\"\"\"\n"
      ],
      "metadata": {
        "id": "AOAjJ2MB69WJ"
      },
      "execution_count": null,
      "outputs": []
    },
    {
      "cell_type": "code",
      "source": [
        "\"\"\"\n",
        "Q2. What is the difference between the mean, median, and mode? How are they used to measure the\n",
        "central tendency of a dataset?\n",
        "Ans :\n",
        "1. The mean provides the arithmetic average and is suitable for data that follows a normal distribution without extreme outliers.\n",
        "    Formula: Mean = (Sum of all values) / (Total number of values)\n",
        "\n",
        "2. The median is the middle value that's less affected by outliers, making it suitable for skewed or non-normally distributed data.\n",
        "    No specific formula, but involves sorting the data and finding the middle value(s).\n",
        "\n",
        "3. The mode highlights the most common value or category, and it's useful for categorical or discrete data.\n",
        "    No specific formula; it's the value(s) with the highest frequency.\n",
        "\n",
        "\"\"\"\n"
      ],
      "metadata": {
        "id": "gK_r3MWP7WOC"
      },
      "execution_count": null,
      "outputs": []
    },
    {
      "cell_type": "code",
      "source": [
        "\"\"\"\n",
        "Q3. Measure the three measures of central tendency for the given height data:\n",
        "[178,177,176,177,178.2,178,175,179,180,175,178.9,176.2,177,172.5,178,176.5]\n",
        "\"\"\"\n",
        "import numpy as np\n",
        "from scipy import stats\n",
        "\n",
        "height_data = [178,177,176,177,178.2,178,175,179,180,175,178.9,176.2,177,172.5,178,176.5]\n",
        "\n",
        "print(\"Mean =\", np.mean(height_data))\n",
        "print(\"Median =\", np.median(height_data))\n",
        "print(\"Mode =\", stats.mode(height_data))"
      ],
      "metadata": {
        "colab": {
          "base_uri": "https://localhost:8080/"
        },
        "id": "BqxNzsL578IY",
        "outputId": "c075f1e9-9c26-471f-9b99-421f2599928a"
      },
      "execution_count": 9,
      "outputs": [
        {
          "output_type": "stream",
          "name": "stdout",
          "text": [
            "Mean = 177.01875\n",
            "Median = 177.0\n",
            "Mode = ModeResult(mode=array([177.]), count=array([3]))\n"
          ]
        },
        {
          "output_type": "stream",
          "name": "stderr",
          "text": [
            "<ipython-input-9-150d0b04639b>:12: FutureWarning: Unlike other reduction functions (e.g. `skew`, `kurtosis`), the default behavior of `mode` typically preserves the axis it acts along. In SciPy 1.11.0, this behavior will change: the default value of `keepdims` will become False, the `axis` over which the statistic is taken will be eliminated, and the value None will no longer be accepted. Set `keepdims` to True or False to avoid this warning.\n",
            "  print(\"Mode =\", stats.mode(height_data))\n"
          ]
        }
      ]
    },
    {
      "cell_type": "code",
      "source": [
        "\"\"\"\n",
        "Q4. Find the standard deviation for the given data:\n",
        "[178,177,176,177,178.2,178,175,179,180,175,178.9,176.2,177,172.5,178,176.5]\n",
        "\"\"\"\n",
        "data = [178,177,176,177,178.2,178,175,179,180,175,178.9,176.2,177,172.5,178,176.5]\n",
        "print(\"Standard Deviation = \", np.std(data))\n"
      ],
      "metadata": {
        "colab": {
          "base_uri": "https://localhost:8080/"
        },
        "id": "vknr1Un28KPU",
        "outputId": "fa992ec9-0b01-486f-92e4-51f2caae87c3"
      },
      "execution_count": 10,
      "outputs": [
        {
          "output_type": "stream",
          "name": "stdout",
          "text": [
            "Standard Deviation =  1.7885814036548633\n"
          ]
        }
      ]
    },
    {
      "cell_type": "code",
      "source": [
        "\"\"\"\n",
        "Q5. How are measures of dispersion such as range, variance, and standard deviation used to describe\n",
        "the spread of a dataset? Provide an example.\n",
        "Ans :\n",
        "Measures of dispersion, such as range, variance, and standard deviation, are used to quantify how spread out or scattered the values in a dataset are.\n",
        "They provide insights into the variability or dispersion of data points around the central tendency (mean, median, etc.).\n",
        "\n",
        "1. Range:\n",
        "  The range is the difference between the maximum and minimum values in a dataset.\n",
        "  It gives a simple idea of the spread of data but can be greatly affected by outliers.\n",
        "  Formula: Range = Maximum Value - Minimum Value\n",
        "\n",
        "2. Variance:\n",
        "  Variance measures the average of the squared differences between each data point and the mean of the dataset.\n",
        "  It gives a more detailed understanding of how individual values deviate from the mean.\n",
        "  Formula: Variance = (Sum of (Data Point - Mean)^2) / (Total Number of Data Points)\n",
        "\n",
        "3. Standard Deviation:\n",
        "  The standard deviation is the square root of the variance.\n",
        "  It provides a measure of how much individual data points deviate from the mean, in the same units as the original data.\n",
        "  A higher standard deviation indicates greater variability in the dataset.\n",
        "  Formula: Standard Deviation = Square Root of Variance\n",
        "\n",
        "\"\"\"\n",
        "import numpy as np\n",
        "\n",
        "# Sample dataset\n",
        "data = [12, 15, 18, 22, 25, 29, 31, 32, 35, 38]\n",
        "\n",
        "# Calculate range\n",
        "data_range = np.max(data) - np.min(data)\n",
        "\n",
        "# Calculate variance\n",
        "data_variance = np.var(data)\n",
        "\n",
        "# Calculate standard deviation\n",
        "data_std_dev = np.std(data)\n",
        "\n",
        "print(\"Dataset:\", data)\n",
        "print(\"Range:\", data_range)\n",
        "print(\"Variance:\", data_variance)\n",
        "print(\"Standard Deviation:\", data_std_dev)\n",
        "\n"
      ],
      "metadata": {
        "colab": {
          "base_uri": "https://localhost:8080/"
        },
        "id": "htzeiGeO8e2G",
        "outputId": "8cf3eae2-edeb-48f5-f372-8ed42a2ff871"
      },
      "execution_count": 11,
      "outputs": [
        {
          "output_type": "stream",
          "name": "stdout",
          "text": [
            "Dataset: [12, 15, 18, 22, 25, 29, 31, 32, 35, 38]\n",
            "Range: 26\n",
            "Variance: 69.21\n",
            "Standard Deviation: 8.319254774317228\n"
          ]
        }
      ]
    },
    {
      "cell_type": "code",
      "source": [
        "\"\"\"\n",
        "Q6. What is a Venn diagram?\n",
        "Ans :\n",
        "A Venn diagram is a graphical representation used to depict the relationships between different sets or groups.\n",
        "It consists of overlapping circles or other shapes, where each circle represents a set, and the overlapping areas represent the intersection between those sets.\n",
        "Venn diagrams are often used to visually illustrate the similarities and differences between various elements or categories.\n",
        "\n",
        "A U B (A Union B):\n",
        "The union of two sets, A and B, denoted as A U B, represents the collection of all elements that belong to either set A, or set B, or both. In other words, it combines all the unique elements from both sets without duplication.\n",
        "For example, if A = {1, 2, 3} and B = {3, 4, 5}, then A U B = {1, 2, 3, 4, 5}, as it includes all distinct elements from both sets.\n",
        "\n",
        "A ∩ B (A Intersection B):\n",
        "The intersection of two sets, A and B, denoted as A ∩ B, represents the collection of elements that belong to both set A and set B. In other words, it shows the common elements shared between the two sets.\n",
        "For example, if A = {1, 2, 3} and B = {3, 4, 5}, then A ∩ B = {3}, as it includes only the element that is present in both sets.\n",
        "\n",
        "\"\"\""
      ],
      "metadata": {
        "id": "3cH4OeiG9JPw"
      },
      "execution_count": null,
      "outputs": []
    },
    {
      "cell_type": "code",
      "source": [
        "\"\"\"\n",
        "Q7. For the two given sets A = (2,3,4,5,6,7) & B = (0,2,6,8,10). Find:\n",
        "(i) A ∩ B\n",
        "(ii) A ⋃ B\n",
        "\n",
        "Ans :\n",
        "(i) A ∩ B = {2, 6} (Common elements in both sets A and B)\n",
        "(ii) A ⋃ B = {0, 2, 3, 4, 5, 6, 7, 8, 10} (All unique elements from sets A and B)\n",
        "\"\"\"\n"
      ],
      "metadata": {
        "id": "ZZoDrWj3-QVP"
      },
      "execution_count": null,
      "outputs": []
    },
    {
      "cell_type": "code",
      "source": [
        "\"\"\"\n",
        "Q8. What do you understand about skewness in data?\n",
        "Ans :\n",
        "Skewness is a statistical measure that describes the asymmetry or lack of symmetry in the distribution of data points in a dataset.\n",
        "In other words, it quantifies the degree to which a dataset's distribution is skewed or tilted to one side.\n",
        "\n",
        "There are three main types of skewness:\n",
        "1. Positive Skewness (Right Skewness):\n",
        "  In a positively skewed distribution, the tail of the distribution extends more towards the right side (higher values) of the data.\n",
        "  This means that there are few data points with very high values that pull the mean in that direction, while the majority of the data lies on the left side.\n",
        "\n",
        "2. Negative Skewness (Left Skewness):\n",
        "  In a negatively skewed distribution, the tail of the distribution extends more towards the left side (lower values) of the data.\n",
        "  This means that there are few data points with very low values that pull the mean in that direction, while the bulk of the data is on the right side.\n",
        "\n",
        "3. Symmetric Distribution:\n",
        "  In a symmetric distribution, the data points are evenly distributed on both sides of the mean, and the distribution appears balanced without any skewness.\n",
        "\"\"\""
      ],
      "metadata": {
        "id": "f_K31-MP-jjH"
      },
      "execution_count": null,
      "outputs": []
    },
    {
      "cell_type": "code",
      "source": [
        "\"\"\"\n",
        "Q9. If a data is right skewed then what will be the position of median with respect to mean?\n",
        "ANs :\n",
        "If a dataset is right-skewed, it means that the distribution of data is stretched out more towards the right side,\n",
        "which is characterized by a long tail on the right-hand side of the distribution. In\n",
        " this case, there are relatively few extremely high values that pull the mean to the right, away from the bulk of the data.\n",
        "\n",
        "The position of the median with respect to the mean in a right-skewed distribution is typically influenced by the skewness itself:\n",
        "Mean > Median > Mode\n",
        "\n",
        "\n",
        "\"\"\""
      ],
      "metadata": {
        "id": "fEEQUBdYAGnW"
      },
      "execution_count": null,
      "outputs": []
    },
    {
      "cell_type": "code",
      "source": [
        "\"\"\"\n",
        "Q10. Explain the difference between covariance and correlation. How are these measures used in\n",
        "statistical analysis?\n",
        "Ans :\n",
        "Covariance and correlation are both statistical measures used to quantify the relationship between two variables\n",
        "\n",
        "1. Covariance: Covariance measures the degree to which two variables change together.\n",
        "                It indicates whether an increase in one variable corresponds to an increase or decrease in another variable.\n",
        "                A positive covariance suggests that the variables tend to increase together, while a negative covariance suggests that one variable tends to increase when the other decreases.\n",
        "\n",
        "2. Correlation: Correlation measures the strength and direction of the linear relationship between two variables.\n",
        "                It is a standardized measure that falls between -1 and 1.\n",
        "                A correlation coefficient of\n",
        "                  +1 indicates a perfect positive linear relationship,\n",
        "                  -1 indicates a perfect negative linear relationship, and\n",
        "                  0 indicates no linear relationship.\n",
        "\n",
        "\"\"\"\n"
      ],
      "metadata": {
        "id": "TlkzkEnIAeCQ"
      },
      "execution_count": null,
      "outputs": []
    },
    {
      "cell_type": "code",
      "source": [
        "\"\"\"\n",
        "Q11. What is the formula for calculating the sample mean? Provide an example calculation for a dataset.\n",
        "Ans : The formula for calculating the sample mean is the sum of all the individual data points in the dataset divided by the total number of data points in the sample.\n",
        "\n",
        "Consider the dataset: 10, 15, 20, 25, 30.\n",
        "\n",
        "To calculate the sample mean:\n",
        "Sum of all elements = 10 + 15 + 20 + 25 + 30 = 100\n",
        "No of elements = 5\n",
        "so Mean = Sum of all elements / No of elements = 100 / 5 = 20\n",
        "\"\"\"\n",
        "data = [10, 15, 20, 25, 30]\n",
        "print(\"Mean = \" , sum(data)/len(data))"
      ],
      "metadata": {
        "colab": {
          "base_uri": "https://localhost:8080/"
        },
        "id": "M67OzGUAC278",
        "outputId": "31149f17-9bfc-4aba-d8c0-e057197e3947"
      },
      "execution_count": 14,
      "outputs": [
        {
          "output_type": "stream",
          "name": "stdout",
          "text": [
            "Mean =  20.0\n"
          ]
        }
      ]
    },
    {
      "cell_type": "code",
      "source": [
        "\"\"\"\n",
        "Q12. For a normal distribution data what is the relationship between its measure of central tendency?\n",
        "Ans :\n",
        "For a normal distribution, which is also known as a Gaussian distribution or bell curve, there is a specific relationship between its measures of central tendency: mean, median, and mode.\n",
        "This relationship is a key characteristic of normal distributions and contributes to their symmetrical shape. The relationship is as follows:\n",
        "\n",
        "1. The mean, median, and mode are all equal and located at the center of the distribution.\n",
        "2. The distribution is perfectly symmetric around the mean, with half of the data points falling to the left and half to the right of the mean.\n",
        "\n",
        "\"\"\"\n"
      ],
      "metadata": {
        "colab": {
          "base_uri": "https://localhost:8080/"
        },
        "id": "PmuLeoLQDXhV",
        "outputId": "a81d0b8b-2edf-40ff-cd00-5d5d18b2a56c"
      },
      "execution_count": 15,
      "outputs": [
        {
          "output_type": "stream",
          "name": "stdout",
          "text": [
            "\n"
          ]
        }
      ]
    },
    {
      "cell_type": "code",
      "source": [
        "\"\"\"\n",
        "Q13. How is covariance different from correlation?\n",
        "Covariance: Covariance measures the degree to which two variables change together.\n",
        "            It indicates the direction of the linear relationship between two variables.\n",
        "            A positive covariance suggests that the variables tend to increase together, while a negative covariance suggests that one variable tends to increase as the other decreases.\n",
        "            Covariance is influenced by the scale of the variables and is not standardized, making it challenging to interpret the strength of the relationship directly from its value.\n",
        "\n",
        "Correlation: Correlation measures the strength and direction of the linear relationship between two variables,\n",
        "            while standardizing the measure between -1 and 1, making it easier to interpret and compare.\n",
        "            A correlation coefficient of +1 indicates a perfect positive linear relationship, -1 indicates a perfect negative linear relationship, and 0 indicates no linear relationship.\n",
        "            Correlation accounts for both the strength of the relationship and the scale of the variables, making it a more reliable measure of association.\n",
        "\n",
        "\"\"\""
      ],
      "metadata": {
        "id": "vCrbH32VDZTC"
      },
      "execution_count": null,
      "outputs": []
    },
    {
      "cell_type": "code",
      "source": [
        "\"\"\"\n",
        "Q14. How do outliers affect measures of central tendency and dispersion? Provide an example.\n",
        "Ans :\n",
        "Outliers are data points that deviate significantly from the rest of the dataset.\n",
        "They can have a notable impact on measures of central tendency (mean, median, mode) and measures of dispersion (range, variance, standard deviation) in various ways.\n",
        "\n",
        "\"\"\"\n",
        "\n",
        "import numpy as np\n",
        "\n",
        "# Original dataset\n",
        "data = np.array([25, 27, 30, 32, 33, 34, 36, 38, 40, 120])\n",
        "\n",
        "# Calculate measures of central tendency\n",
        "mean = np.mean(data)\n",
        "median = np.median(data)\n",
        "mode = np.argmax(np.bincount(data))  # Mode using bincount\n",
        "\n",
        "# Calculate measures of dispersion\n",
        "range_val = np.max(data) - np.min(data)\n",
        "variance = np.var(data)\n",
        "std_deviation = np.std(data)\n",
        "\n",
        "print(\"Original Dataset:\")\n",
        "print(\"Data:\", data)\n",
        "print(\"Mean:\", mean)\n",
        "print(\"Median:\", median)\n",
        "print(\"Mode:\", mode)\n",
        "print(\"Range:\", range_val)\n",
        "print(\"Variance:\", variance)\n",
        "print(\"Standard Deviation:\", std_deviation)\n",
        "\n",
        "# Add an outlier\n",
        "data_with_outlier = np.append(data, 200)\n",
        "\n",
        "# Calculate measures of central tendency\n",
        "mean_outlier = np.mean(data_with_outlier)\n",
        "median_outlier = np.median(data_with_outlier)\n",
        "mode_outlier = np.argmax(np.bincount(data_with_outlier))  # Mode using bincount\n",
        "\n",
        "# Calculate measures of dispersion\n",
        "range_val_outlier = np.max(data_with_outlier) - np.min(data_with_outlier)\n",
        "variance_outlier = np.var(data_with_outlier)\n",
        "std_deviation_outlier = np.std(data_with_outlier)\n",
        "\n",
        "print(\"\\nDataset with Outlier:\")\n",
        "print(\"Data:\", data_with_outlier)\n",
        "print(\"Mean:\", mean_outlier)\n",
        "print(\"Median:\", median_outlier)\n",
        "print(\"Mode:\", mode_outlier)\n",
        "print(\"Range:\", range_val_outlier)\n",
        "print(\"Variance:\", variance_outlier)\n",
        "print(\"Standard Deviation:\", std_deviation_outlier)\n"
      ],
      "metadata": {
        "colab": {
          "base_uri": "https://localhost:8080/"
        },
        "id": "lbIYMeboFT9k",
        "outputId": "20b88486-1e7e-449f-a758-c13658543d41"
      },
      "execution_count": 16,
      "outputs": [
        {
          "output_type": "stream",
          "name": "stdout",
          "text": [
            "Original Dataset:\n",
            "Data: [ 25  27  30  32  33  34  36  38  40 120]\n",
            "Mean: 41.5\n",
            "Median: 33.5\n",
            "Mode: 25\n",
            "Range: 95\n",
            "Variance: 704.05\n",
            "Standard Deviation: 26.533940529065788\n",
            "\n",
            "Dataset with Outlier:\n",
            "Data: [ 25  27  30  32  33  34  36  38  40 120 200]\n",
            "Mean: 55.90909090909091\n",
            "Median: 34.0\n",
            "Mode: 25\n",
            "Range: 175\n",
            "Variance: 2716.2644628099174\n",
            "Standard Deviation: 52.117794109209164\n"
          ]
        }
      ]
    },
    {
      "cell_type": "code",
      "source": [],
      "metadata": {
        "id": "wX7J9eU8E1HA"
      },
      "execution_count": null,
      "outputs": []
    }
  ]
}
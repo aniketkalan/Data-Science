{
  "nbformat": 4,
  "nbformat_minor": 0,
  "metadata": {
    "colab": {
      "provenance": []
    },
    "kernelspec": {
      "name": "python3",
      "display_name": "Python 3"
    },
    "language_info": {
      "name": "python"
    }
  },
  "cells": [
    {
      "cell_type": "code",
      "execution_count": 2,
      "metadata": {
        "colab": {
          "base_uri": "https://localhost:8080/"
        },
        "id": "5r700d4Td6Y_",
        "outputId": "d098201e-ef86-4eb5-f991-9691b8eb7bc3"
      },
      "outputs": [
        {
          "output_type": "stream",
          "name": "stdout",
          "text": [
            "Name - Pulser\n",
            "Max Speed - 200\n",
            "Average - 50\n"
          ]
        }
      ],
      "source": [
        "\"\"\"\n",
        "Q1, Create a vehicle class with an init method having instance variables as name_of_vehicle, max_speed\n",
        "and average_of_vehicle.\n",
        "\"\"\"\n",
        "class Vehicle:\n",
        "  def __init__(self,name_of_vehicle, max_speed, average_of_vehicle):\n",
        "    self.name_of_vehicle = name_of_vehicle\n",
        "    self.max_speed = max_speed\n",
        "    self.average_of_vehicle = average_of_vehicle\n",
        "\n",
        "bike = Vehicle(\"Pulser\" , 200 , 50)\n",
        "print(\"Name -\" , bike.name_of_vehicle)\n",
        "print(\"Max Speed -\" , bike.max_speed)\n",
        "print(\"Average -\" , bike.average_of_vehicle)\n"
      ]
    },
    {
      "cell_type": "code",
      "source": [
        "\"\"\"\n",
        "Q2. Create a child class car from the vehicle class created in Que 1, which will inherit the vehicle class.\n",
        "Create a method named seating_capacity which takes capacity as an argument and returns the name of\n",
        "the vehicle and its seating capacity.\n",
        "\n",
        "\"\"\"\n",
        "\n",
        "class Vehicle:\n",
        "  def __init__(self,name_of_vehicle, max_speed, average_of_vehicle):\n",
        "    self.name_of_vehicle = name_of_vehicle\n",
        "    self.max_speed = max_speed\n",
        "    self.average_of_vehicle = average_of_vehicle\n",
        "\n",
        "class Car(Vehicle):\n",
        "\n",
        "  def seating_capacity(self,capacity):\n",
        "    self.capacity = capacity\n",
        "    return self.name_of_vehicle , self.capacity\n",
        "\n",
        "car = Car(\"Lambo\" , 500 , 50)\n",
        "car.seating_capacity(4)\n"
      ],
      "metadata": {
        "colab": {
          "base_uri": "https://localhost:8080/"
        },
        "id": "dXDmH5X1ehO6",
        "outputId": "814009e6-c9ec-476c-bc22-eb7d1e6fb3b9"
      },
      "execution_count": 6,
      "outputs": [
        {
          "output_type": "execute_result",
          "data": {
            "text/plain": [
              "('Lambo', 4)"
            ]
          },
          "metadata": {},
          "execution_count": 6
        }
      ]
    },
    {
      "cell_type": "code",
      "source": [
        "\"\"\"\n",
        "Q3. What is multiple inheritance? Write a python code to demonstrate multiple inheritance.\n",
        "Ans : Multiple inheritance means a class can inherit attributes and methods from multiple parent classes.\n",
        "Example:\n",
        "\"\"\"\n",
        "class A:\n",
        "  def met_a(self):\n",
        "    print(\"This is method of class A\")\n",
        "\n",
        "class B:\n",
        "  def met_b(self):\n",
        "    print(\"This is method of class B\")\n",
        "\n",
        "class C(A, B):\n",
        "  def met_c(self):\n",
        "    print(\"This is method of class C\")\n",
        "\n",
        "c = C()\n",
        "c.met_a()\n",
        "c.met_b()\n",
        "c.met_c()"
      ],
      "metadata": {
        "colab": {
          "base_uri": "https://localhost:8080/"
        },
        "id": "reP3RbqYfmWV",
        "outputId": "ac2d9b49-f87b-4182-b272-4b96c28bc8be"
      },
      "execution_count": 9,
      "outputs": [
        {
          "output_type": "stream",
          "name": "stdout",
          "text": [
            "This is method of class A\n",
            "This is method of class B\n",
            "This is method of class C\n"
          ]
        }
      ]
    },
    {
      "cell_type": "code",
      "source": [
        "\"\"\"\n",
        "Q4. What are getter and setter in python? Create a class and create a getter and a setter method in this\n",
        "class.\n",
        "In python a user can not directly access private or protected attributes of the class.\n",
        "For this we create a method with @property annotation and we can give access to user\n",
        "for that property we can create getter and setter methods\n",
        "\"\"\"\n",
        "\n",
        "class ATM:\n",
        "  def __init__(self, balance):\n",
        "    self.__balance = balance\n",
        "\n",
        "  @property\n",
        "  def atm_balance(self):\n",
        "    return self.__balance\n",
        "\n",
        "  @atm_balance.setter\n",
        "  def set_atm_balance(self, balance):\n",
        "    print(\"Setter method called\")\n",
        "    self.__balance = balance\n",
        "\n",
        "  @atm_balance.getter\n",
        "  def get_atm_balance(self):\n",
        "    print(\"Getter method called\")\n",
        "    return self.__balance\n",
        "\n",
        "atm = ATM(1000)\n",
        "print(atm.atm_balance)\n",
        "atm.set_atm_balance = 5000 # call setter method to set the value\n",
        "print(atm.get_atm_balance) # call getter method to set the value\n",
        "\n",
        "\n"
      ],
      "metadata": {
        "colab": {
          "base_uri": "https://localhost:8080/"
        },
        "id": "b7cclgFDhdXF",
        "outputId": "e5d69865-a0ee-4cc5-f5e4-d11dbf521e4b"
      },
      "execution_count": 18,
      "outputs": [
        {
          "output_type": "stream",
          "name": "stdout",
          "text": [
            "1000\n",
            "Setter method called\n",
            "Getter method called\n",
            "5000\n"
          ]
        }
      ]
    },
    {
      "cell_type": "code",
      "source": [
        "\"\"\"\n",
        "Q5.What is method overriding in python? Write a python code to demonstrate method overriding.\n",
        "Ans : Method overriding allows subclass to provide a different implementation of a method that is already defined in its superclass.\n",
        "Example:\n",
        "\"\"\"\n",
        "class Vehicle:\n",
        "  def speed(self):\n",
        "    print(\"This vehicle moves with speed\")\n",
        "\n",
        "class Bike(Vehicle):\n",
        "  def speed(self):\n",
        "    print(\"Bike moves with very Fast speed\")\n",
        "\n",
        "class Cycle(Vehicle):\n",
        "  def speed(self):\n",
        "    print(\"Cycle moves with very Slow speed\")\n",
        "\n",
        "b = Bike()\n",
        "b.speed()\n",
        "\n",
        "c = Cycle()\n",
        "c.speed()\n",
        "\n",
        "# In above example Class bike and cyckle extends class vehicle and method speed in each class has its own behavior\n"
      ],
      "metadata": {
        "colab": {
          "base_uri": "https://localhost:8080/"
        },
        "id": "jRT-LEjokhk-",
        "outputId": "6d65ade5-54a9-4e11-940e-d75ca8a4b620"
      },
      "execution_count": 19,
      "outputs": [
        {
          "output_type": "stream",
          "name": "stdout",
          "text": [
            "Bike moves with very Fast speed\n",
            "Cycle moves with very Slow speed\n"
          ]
        }
      ]
    }
  ]
}
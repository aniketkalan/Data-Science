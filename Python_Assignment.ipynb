{
  "nbformat": 4,
  "nbformat_minor": 0,
  "metadata": {
    "colab": {
      "provenance": []
    },
    "kernelspec": {
      "name": "python3",
      "display_name": "Python 3"
    },
    "language_info": {
      "name": "python"
    }
  },
  "cells": [
    {
      "cell_type": "code",
      "execution_count": 12,
      "metadata": {
        "colab": {
          "base_uri": "https://localhost:8080/"
        },
        "id": "KD0sDUBXhSy7",
        "outputId": "309e6d81-7f2a-4596-fdb3-e35852cf8498"
      },
      "outputs": [
        {
          "output_type": "execute_result",
          "data": {
            "text/plain": [
              "[('Virat Kohli', 24936),\n",
              " ('Jack Kallis', 25534),\n",
              " ('Ricky Ponting', 27483),\n",
              " ('Sachin Tendulkar', 34357)]"
            ]
          },
          "metadata": {},
          "execution_count": 12
        }
      ],
      "source": [
        "\"\"\"\n",
        "Q1. Create a python program to sort the given list of tuples based on integer value using a\n",
        "lambda function.\n",
        "[('Sachin Tendulkar', 34357), ('Ricky Ponting', 27483), ('Jack Kallis', 25534), ('Virat Kohli', 24936)]\n",
        "\"\"\"\n",
        "l1 = [('Sachin Tendulkar', 34357), ('Ricky Ponting', 27483), ('Jack Kallis', 25534), ('Virat Kohli', 24936)]\n",
        "sorted_data = sorted(l1, key=lambda x: x[1])\n",
        "sorted_data\n"
      ]
    },
    {
      "cell_type": "code",
      "source": [
        "\"\"\"\n",
        "Q2. Write a Python Program to find the squares of all the numbers in the given list of integers using\n",
        "lambda and map functions.\n",
        "[1, 2, 3, 4, 5, 6, 7, 8, 9, 10]\n",
        "\"\"\"\n",
        "l1 = [1, 2, 3, 4, 5, 6, 7, 8, 9, 10]\n",
        "list(map(lambda x : x**2 , l1))\n",
        "\n"
      ],
      "metadata": {
        "colab": {
          "base_uri": "https://localhost:8080/"
        },
        "id": "-PqUkaEruWnv",
        "outputId": "d07ce53c-9b57-4aa4-88e1-480012d3451b"
      },
      "execution_count": 14,
      "outputs": [
        {
          "output_type": "execute_result",
          "data": {
            "text/plain": [
              "[1, 4, 9, 16, 25, 36, 49, 64, 81, 100]"
            ]
          },
          "metadata": {},
          "execution_count": 14
        }
      ]
    },
    {
      "cell_type": "code",
      "source": [
        "\"\"\"\n",
        "Q3. Write a python program to convert the given list of integers into a tuple of strings. Use map and\n",
        "lambda functions\n",
        "Given String: [1, 2, 3, 4, 5, 6, 7, 8, 9, 10]\n",
        "Expected output: ('1', '2', '3', '4', '5', '6', '7', '8', '9', '10')\n",
        "\"\"\"\n",
        "\n",
        "l1 = [1, 2, 3, 4, 5, 6, 7, 8, 9, 10]\n",
        "tuple(map(lambda x : str(x) , l1 ))"
      ],
      "metadata": {
        "colab": {
          "base_uri": "https://localhost:8080/"
        },
        "id": "EtQ9z7B8urWX",
        "outputId": "096cc336-7728-4ec9-c66a-1e847c08bc08"
      },
      "execution_count": 15,
      "outputs": [
        {
          "output_type": "execute_result",
          "data": {
            "text/plain": [
              "('1', '2', '3', '4', '5', '6', '7', '8', '9', '10')"
            ]
          },
          "metadata": {},
          "execution_count": 15
        }
      ]
    },
    {
      "cell_type": "code",
      "source": [
        "\"\"\"\n",
        "Q4. Write a python program using reduce function to compute the product of a list containing numbers\n",
        "from 1 to 25.\n",
        "\"\"\"\n",
        "from functools import reduce\n",
        "l1 = list(range(1,26))\n",
        "print(l1)\n",
        "print(\"product of above list : \")\n",
        "reduce(lambda x , y : x*y , l1)\n"
      ],
      "metadata": {
        "colab": {
          "base_uri": "https://localhost:8080/"
        },
        "id": "J9LfV3Xxu6is",
        "outputId": "3988d851-4054-4238-831d-7bd11fe805b6"
      },
      "execution_count": 20,
      "outputs": [
        {
          "output_type": "stream",
          "name": "stdout",
          "text": [
            "[1, 2, 3, 4, 5, 6, 7, 8, 9, 10, 11, 12, 13, 14, 15, 16, 17, 18, 19, 20, 21, 22, 23, 24, 25]\n",
            "product of above list : \n"
          ]
        },
        {
          "output_type": "execute_result",
          "data": {
            "text/plain": [
              "15511210043330985984000000"
            ]
          },
          "metadata": {},
          "execution_count": 20
        }
      ]
    },
    {
      "cell_type": "code",
      "source": [
        "\"\"\"\n",
        "Q5. Write a python program to filter the numbers in a given list that are divisible by 2 and 3 using the\n",
        "filter function.\n",
        "[2, 3, 6, 9, 27, 60, 90, 120, 55, 46]\n",
        "\"\"\"\n",
        "l1 = [2, 3, 6, 9, 27, 60, 90, 120, 55, 46]\n",
        "print(l1)\n",
        "print(\"Numbers in above list that are divisible by 2 and 3 are : \")\n",
        "l1 = list(filter(lambda x : x % 2 == 0 and x  % 3 == 0 , l1))\n",
        "print(l1)"
      ],
      "metadata": {
        "colab": {
          "base_uri": "https://localhost:8080/"
        },
        "id": "7QWCuZ41wJ1G",
        "outputId": "25df22ea-b625-4853-e0d3-d3c0d8b60ac9"
      },
      "execution_count": 23,
      "outputs": [
        {
          "output_type": "stream",
          "name": "stdout",
          "text": [
            "[2, 3, 6, 9, 27, 60, 90, 120, 55, 46]\n",
            "Numbers in above list that are divisible by 2 and 3 are : \n",
            "[6, 60, 90, 120]\n"
          ]
        }
      ]
    },
    {
      "cell_type": "code",
      "source": [
        "\"\"\"\n",
        "Q6. Write a python program to find palindromes in the given list of strings using lambda and filter\n",
        "function.\n",
        "['python', 'php', 'aba', 'radar', 'level']\n",
        "\n",
        "\"\"\"\n",
        "l1 = ['python', 'php', 'aba', 'radar', 'level']\n",
        "list(filter(lambda x : x == x[::-1], l1))"
      ],
      "metadata": {
        "colab": {
          "base_uri": "https://localhost:8080/"
        },
        "id": "sIV8QRX9wlIz",
        "outputId": "9b9835d3-8102-4c0a-e31b-16611dfdae2f"
      },
      "execution_count": 24,
      "outputs": [
        {
          "output_type": "execute_result",
          "data": {
            "text/plain": [
              "['php', 'aba', 'radar', 'level']"
            ]
          },
          "metadata": {},
          "execution_count": 24
        }
      ]
    },
    {
      "cell_type": "code",
      "source": [
        "\n"
      ],
      "metadata": {
        "id": "Wh_w2OExv5xX"
      },
      "execution_count": null,
      "outputs": []
    }
  ]
}
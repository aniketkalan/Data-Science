{
  "nbformat": 4,
  "nbformat_minor": 0,
  "metadata": {
    "colab": {
      "provenance": []
    },
    "kernelspec": {
      "name": "python3",
      "display_name": "Python 3"
    },
    "language_info": {
      "name": "python"
    }
  },
  "cells": [
    {
      "cell_type": "code",
      "execution_count": 2,
      "metadata": {
        "colab": {
          "base_uri": "https://localhost:8080/"
        },
        "id": "oPT16bV9AsO7",
        "outputId": "557212ef-79f5-42f6-e49f-0b142b3ee928"
      },
      "outputs": [
        {
          "output_type": "stream",
          "name": "stdout",
          "text": [
            "4\n",
            "25\n",
            "81\n",
            "16\n",
            "25\n"
          ]
        }
      ],
      "source": [
        "\"\"\"\n",
        "Q1 What is multithreading in python? why is it used? Name the module used to handle threads in python\n",
        "Ans : Multithreading - It means execution of multiple threads simultaneously in a single process\n",
        "     The primary purpose of multithreading is to improve the efficiency and responsiveness of programs by utilizing the available resources effectively\n",
        "     In Python, the threading module is used to handle threads.\n",
        "\n",
        "\"\"\"\n",
        "import threading\n",
        "\n",
        "def square(a):\n",
        "  print(a ** 2)\n",
        "\n",
        "\n",
        "if __name__ == '__main__':\n",
        "  threads = [threading.Thread(target = square , args = (i,)) for i in [2,5,9,4,5]]\n",
        "  for t in threads:\n",
        "    t.start()\n",
        "    t.join()\n"
      ]
    },
    {
      "cell_type": "code",
      "source": [
        "\"\"\"\n",
        "Q2. Why threading module used? write the use of the following functions\n",
        "1. activeCount()\n",
        "2. currentThread()\n",
        "3. enumerate()\n",
        "\"\"\"\n",
        "import threading , time\n",
        "\n",
        "def test():\n",
        "  thread_name = threading.current_thread()    # current_thread - will return current thread object. We can fetch the name of thread using .name\n",
        "  print(\"In test method.. Thread name = \", thread_name.name)\n",
        "\n",
        "if __name__ == '__main__':\n",
        "  thread1 = threading.Thread(target = test, name = \"Thread 1\")\n",
        "  thread2 = threading.Thread(target = test, name = \"Thread 2\")\n",
        "\n",
        "  thread1.start()\n",
        "  thread2.start()\n",
        "\n",
        "  time.sleep(1)\n",
        "  active_count = threading.active_count()  # get active count - count of threads\n",
        "  print(\"Active Count = \" , active_count)\n",
        "  time.sleep(1)\n",
        "  en = threading.enumerate()   # get list of threads\n",
        "\n",
        "  for i in en:\n",
        "    print(i.name)\n",
        "  thread1.join()\n",
        "  thread2.join()\n",
        "\n"
      ],
      "metadata": {
        "colab": {
          "base_uri": "https://localhost:8080/"
        },
        "id": "_r4Ol-JXCDh2",
        "outputId": "85c710b4-4768-4ce3-b1de-18268a0fe5f4"
      },
      "execution_count": 4,
      "outputs": [
        {
          "output_type": "stream",
          "name": "stdout",
          "text": [
            "In test method.. Thread name =  Thread 1\n",
            "In test method.. Thread name =  Thread 2\n",
            "Active Count =  5\n",
            "MainThread\n",
            "Thread-2 (_thread_main)\n",
            "Thread-3\n",
            "Thread-1\n",
            "_colab_inspector_thread\n"
          ]
        }
      ]
    },
    {
      "cell_type": "code",
      "source": [
        "\"\"\"\n",
        "Q4. Crite a python program to create two threads. Thread one must print the list of squares and thread two must print the list of cubes\n",
        "\"\"\"\n",
        "import threading\n",
        "def square(val):\n",
        "  print(\"Square of \" , val , \" = \" , val**2)\n",
        "\n",
        "def cube(val):\n",
        "  print(\"Cube of \" , val , \" = \" , val**3)\n",
        "\n",
        "if __name__ == '__main__':\n",
        "  lst = [1,2,3,4,5]\n",
        "  thread1 = [threading.Thread  (target = square , args = (i,)) for i in lst]\n",
        "  thread2 = [threading.Thread  (target = cube , args = (i,)) for i in lst]\n",
        "\n",
        "  for t in range(len(lst)):\n",
        "    thread1[t].start()\n",
        "    thread2[t].start()\n",
        "  for t in range(len(lst)):\n",
        "    thread1[t].join()\n",
        "    thread2[t].join()\n",
        "\n"
      ],
      "metadata": {
        "colab": {
          "base_uri": "https://localhost:8080/"
        },
        "id": "9Q-y_XwCEQ0g",
        "outputId": "3f02befa-e903-4ec1-b8dc-799b6c322fd9"
      },
      "execution_count": 7,
      "outputs": [
        {
          "output_type": "stream",
          "name": "stdout",
          "text": [
            "Square of  1  =  1\n",
            "Cube of  1  =  1\n",
            "Square of  2  =  4\n",
            "Cube of  2  =  8\n",
            "Square of  3  =  9\n",
            "Cube of  Square of  4Cube of  4  =  64\n",
            "  =  16\n",
            "3Square of  5  =   25\n",
            " =  27\n",
            "Cube of  5  =  125\n"
          ]
        }
      ]
    },
    {
      "cell_type": "code",
      "source": [
        "\"\"\"\n",
        "Q5. State advantages and disadvantages of multithreading\n",
        "Ans :\n",
        "Advantages :\n",
        "1. Multithreading allows exceution of multiple processes at the same time\n",
        "2. Multithreading allows better utilization of available system resources.\n",
        "3.  Multithreading can significantly improve the responsiveness of an application. By separating time-consuming tasks into separate threads,\n",
        "    the main thread remains responsive and can continue to interact with the user or handle other critical operations.\n",
        "4.  Multithreading simplifies the development process by breaking complex tasks into smaller, more manageable units.\n",
        "\n",
        "Disadvantages:\n",
        "1. Multithreaded programming introduces additional complexity compared to single-threaded programming.\n",
        "2. Issues such as race conditions, deadlocks, and synchronization problems can arise\n",
        "3. When multiple threads access shared resources simultaneously, proper synchronization mechanisms must be employed to ensure data consistency and avoid conflicts\n",
        "4. Each thread requires its own stack and resources, which can result in increased memory usage\n",
        "\n",
        "\"\"\""
      ],
      "metadata": {
        "id": "LeTvH2mo2K-V"
      },
      "execution_count": null,
      "outputs": []
    },
    {
      "cell_type": "code",
      "source": [
        "\"\"\"\n",
        "Q6. Explain deadlocks and race conditions.\n",
        "Ans :\n",
        "Deadlock : A deadlock is a situation in which two or more threads are blocked indefinitely, waiting for each other to release resources that they hold.\n",
        "\n",
        "Race Conditions : A race condition occurs when two or more threads access a shared resource or variable simultaneously, and the final outcome of the program depends on the relative timing or order of their execution.\n",
        "                 The result of a race condition is unpredictable and can lead to incorrect or inconsistent behavior of the program.\n",
        "\n",
        "\n",
        "\"\"\""
      ],
      "metadata": {
        "id": "FvjVqxal3GAX"
      },
      "execution_count": null,
      "outputs": []
    },
    {
      "cell_type": "code",
      "source": [],
      "metadata": {
        "id": "VwBc0BX4E2eA"
      },
      "execution_count": null,
      "outputs": []
    }
  ]
}
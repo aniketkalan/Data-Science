{
  "nbformat": 4,
  "nbformat_minor": 0,
  "metadata": {
    "colab": {
      "provenance": []
    },
    "kernelspec": {
      "name": "python3",
      "display_name": "Python 3"
    },
    "language_info": {
      "name": "python"
    }
  },
  "cells": [
    {
      "cell_type": "code",
      "source": [
        "\"\"\"\n",
        "Q1. Explain Class and Object with respect to Object-Oriented Programming. Give a suitable example.\n",
        "Ans :\n",
        "Class : A class is a blueprint that defines the structure and behavior of an object. It provides attributes and methods\n",
        "Object : Object is an instance of the class. It has its own unique set of attributes and behavior. An object represents a concrete, tangible thing that can be manipulated and interacted with.\n",
        "\n",
        "In Python class is created as\n",
        "class MyClass :\n",
        "\n",
        "\n",
        "and object is created as:\n",
        "\n",
        "obj_my_class = MyClass()\n",
        "\n",
        "Example:\n",
        "\"\"\"\n",
        "class Student:\n",
        "  def __init__ (self, name, roll_no ):\n",
        "    self.name = name\n",
        "    self.roll_no = roll_no\n",
        "\n",
        "s = Student(\"Aniket\", 100)\n",
        "print(s.name, s.roll_no)\n",
        "\n",
        "s2 = Student(\"Rohan\", 101)\n",
        "print(s2.name, s2.roll_no)\n",
        "\n",
        "\n",
        "#In above example as we see Student is a class and it has name and roll no as attributes\n",
        "#s and s2 are the objects created for class Student.\n",
        "#These objects can hold individual attribute values and are specific to that object only\n"
      ],
      "metadata": {
        "colab": {
          "base_uri": "https://localhost:8080/"
        },
        "id": "cwdWTbm2NQrZ",
        "outputId": "7f585b5f-0f85-42cc-f079-47d44cc48b8f"
      },
      "execution_count": 69,
      "outputs": [
        {
          "output_type": "stream",
          "name": "stdout",
          "text": [
            "Aniket 100\n",
            "Rohan 101\n"
          ]
        }
      ]
    },
    {
      "cell_type": "code",
      "source": [
        "\"\"\"\n",
        "Q2. Name the four pillars of OOPs.\n",
        "Ans:\n",
        "OOPS -  Object Oriented Programming Systems: pillars of oops are as follows:\n",
        "\n",
        "1. Abstraction : Abstraction means providing essential details to user and hidning unnessesary information from users.\n",
        "                Abstraction provides a high-level view, allowing programmers to focus on the essential aspects of an object\n",
        "                and its interactions without getting overwhelmed by the implementation details.\n",
        "\n",
        "2. Encaptulation : Encaptulation means binding attributes and methods in a single unit.\n",
        "                   It promotes data hiding by keeping the internal state of an object private and providing controlled access to it through public methods.\n",
        "                   Encapsulation helps in achieving data abstraction, modularity, and code reusability.\n",
        "\n",
        "3. Inheritance : Inheritance means creating derived classes from existing classes. The derived class can access attributes and methods of parent class\n",
        "                  There are 2 types - Multi level inheritance : Class C -> extends Class B -> extends class A\n",
        "                  Multiple inheritance - Class C extends class A and B\n",
        "\n",
        "4. Polymorphism : It refers to the ability of an object to take on many forms or have multiple behaviors based on its class or the context in which it is used.\n",
        "                  Polymorphism enables code to be written that can work with objects of different types, providing flexibility and extensibility.\n",
        "\n",
        "Examples :\n",
        "\"\"\"\n",
        "# Abstraction\n",
        "print(\"Abstraction\")\n",
        "import abc\n",
        "class Person(abc.ABC):\n",
        "  @abc.abstractmethod\n",
        "  def gender(self):\n",
        "    pass\n",
        "\n",
        "class Male(Person):\n",
        "  def gender(self):\n",
        "    print(\"Male\")\n",
        "\n",
        "\n",
        "class Female(Person):\n",
        "  def gender(self):\n",
        "    print(\"Female\")\n",
        "\n",
        "male = Male()\n",
        "female = Female()\n",
        "male.gender()\n",
        "female.gender()\n",
        "\n",
        "#Encaptulation\n",
        "print(\"Encaptulation\")\n",
        "class ATM:\n",
        "  def __init__(self,balance):\n",
        "    self.__balance = balance\n",
        "\n",
        "  def deposit(self, amount):\n",
        "    self.__balance += amount\n",
        "\n",
        "  def withdraw(self, amount):\n",
        "    self.__balance -= amount\n",
        "\n",
        "  def get_balance(self):\n",
        "    return self.__balance\n",
        "\n",
        "atm = ATM(1000)\n",
        "print(atm.get_balance())\n",
        "atm.deposit(500)\n",
        "print(atm.get_balance())\n",
        "\n",
        "# Inheritance:\n",
        "print(\"Inheritance\")\n",
        "class A:\n",
        "  def met_a(self):\n",
        "    print(\"method of class A\")\n",
        "\n",
        "class B(A):\n",
        "  def met_b(self):\n",
        "    print(\"method of class B\")\n",
        "\n",
        "b = B()\n",
        "b.met_a()\n",
        "b.met_b()\n",
        "\n",
        "\n",
        "# Polymorphism:\n",
        "print(\"Polymorphism\")\n",
        "class Person:\n",
        "  def gender(self):\n",
        "    pass\n",
        "\n",
        "class Male(Person):\n",
        "  def gender(self):\n",
        "    return \"Male\"\n",
        "\n",
        "\n",
        "class Female(Person):\n",
        "  def gender(self):\n",
        "    return \"Female\"\n",
        "\n",
        "male = Male()\n",
        "print(male.gender())\n",
        "\n",
        "female = Female()\n",
        "print(female.gender())\n",
        "\n",
        "\n"
      ],
      "metadata": {
        "colab": {
          "base_uri": "https://localhost:8080/"
        },
        "id": "eSL_jZlyTit_",
        "outputId": "ca4d0e12-9f6d-4a3c-f476-bbbd633c7eb9"
      },
      "execution_count": 79,
      "outputs": [
        {
          "output_type": "stream",
          "name": "stdout",
          "text": [
            "Abstraction\n",
            "Male\n",
            "Female\n",
            "Encaptulation\n",
            "1000\n",
            "1500\n",
            "Inheritance\n",
            "method of class A\n",
            "method of class B\n",
            "Polymorphism\n",
            "Male\n",
            "Female\n"
          ]
        }
      ]
    },
    {
      "cell_type": "code",
      "source": [
        "\"\"\"\n",
        "Q3. Explain why the __init__() function is used. Give a suitable example.\n",
        "__init__() method is used as a constructor for a class. It is used to initialise attributes of the class\n",
        "this method has first parameter = self which refeers to the current object of that class\n",
        "\"\"\"\n",
        "class Pwskills:\n",
        "  def __init__(self, course_name , course_price):\n",
        "    print(\"Constructor / init called \")\n",
        "    self.course_name = course_name\n",
        "    self.course_price = course_price\n",
        "\n",
        "pw = Pwskills(\"Data Science 2.0 \", 3500)\n",
        "print(pw.course_name,pw.course_price)\n"
      ],
      "metadata": {
        "colab": {
          "base_uri": "https://localhost:8080/"
        },
        "id": "xrvU1YT5ZSPR",
        "outputId": "1258e3e2-b06e-4df1-b89e-620d6c082fe9"
      },
      "execution_count": 83,
      "outputs": [
        {
          "output_type": "stream",
          "name": "stdout",
          "text": [
            "Constructor / init called \n",
            "Data Science 2.0  3500\n"
          ]
        }
      ]
    },
    {
      "cell_type": "code",
      "source": [
        "\"\"\"\n",
        "Q4. Why self is used in OOPs?\n",
        "Ans : self is used to refer the current instance of the class\n",
        "Example:\n",
        "\n",
        "\"\"\"\n",
        "\n",
        "class Student:\n",
        "  def __init__(self, name):\n",
        "    self.name = name\n",
        "\n",
        "  def get_name(self):\n",
        "    return self.name\n",
        "\n",
        "s1 = Student(\"Aniket\")\n",
        "print(s1.get_name())\n",
        "\n",
        "\n",
        "s2 = Student(\"Test\")\n",
        "print(s2.get_name())"
      ],
      "metadata": {
        "colab": {
          "base_uri": "https://localhost:8080/"
        },
        "id": "Jib8iR5ncV8r",
        "outputId": "41f410fb-6ad3-4760-c890-81f3611e7420"
      },
      "execution_count": 85,
      "outputs": [
        {
          "output_type": "stream",
          "name": "stdout",
          "text": [
            "Aniket\n",
            "Test\n"
          ]
        }
      ]
    },
    {
      "cell_type": "code",
      "source": [
        "\"\"\"\n",
        "Q5. What is inheritance? Give an example for each type of inheritance\n",
        "Ans :\n",
        "Inheritance : Inheritance means creating derived classes from existing classes. The derived class can access attributes and methods of parent class\n",
        "                  There are 2 types - Multi level inheritance : Class C -> extends Class B -> extends class A\n",
        "                  Multiple inheritance - Class C extends class A and B\n",
        "\"\"\"\n",
        "# Multilevel inheritance:\n",
        "print(\"Multilevel inheritance\")\n",
        "class A:\n",
        "  def met_a(self):\n",
        "    print(\"method of class A\")\n",
        "\n",
        "class B(A):\n",
        "  def met_b(self):\n",
        "    print(\"method of class B\")\n",
        "\n",
        "b = B()\n",
        "b.met_a()\n",
        "b.met_b()\n",
        "\n",
        "# Multiple inheritance:\n",
        "print(\"Multiple inheritance\")\n",
        "class A:\n",
        "  def met_a(self):\n",
        "    print(\"method of class A\")\n",
        "\n",
        "class B:\n",
        "  def met_b(self):\n",
        "    print(\"method of class B\")\n",
        "\n",
        "class C(A, B):\n",
        "  def met_c(self):\n",
        "    print(\"method of class C\")\n",
        "\n",
        "c = C()\n",
        "c.met_a()\n",
        "c.met_b()\n",
        "c.met_c()\n",
        "\n",
        "\n",
        "\n"
      ],
      "metadata": {
        "colab": {
          "base_uri": "https://localhost:8080/"
        },
        "id": "b3ckUveddB1E",
        "outputId": "692f5c86-385c-4ca1-f378-633759e0e76e"
      },
      "execution_count": 86,
      "outputs": [
        {
          "output_type": "stream",
          "name": "stdout",
          "text": [
            "Multilevel inheritance\n",
            "method of class A\n",
            "method of class B\n",
            "Multiple inheritance\n",
            "method of class A\n",
            "method of class B\n",
            "method of class C\n"
          ]
        }
      ]
    }
  ]
}
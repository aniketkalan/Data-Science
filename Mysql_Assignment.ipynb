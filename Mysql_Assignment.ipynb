{
  "nbformat": 4,
  "nbformat_minor": 0,
  "metadata": {
    "colab": {
      "provenance": []
    },
    "kernelspec": {
      "name": "python3",
      "display_name": "Python 3"
    },
    "language_info": {
      "name": "python"
    }
  },
  "cells": [
    {
      "cell_type": "code",
      "execution_count": null,
      "metadata": {
        "id": "EwT4SK6-x6N4"
      },
      "outputs": [],
      "source": [
        "\"\"\"\n",
        "Q1. What is a database? Differentiate between SQL and NoSQL databases.\n",
        "Ans :\n",
        "Database : A database is a structured collection of data that is organized, stored, and managed in a way that allows for efficient retrieval, updating, and querying of information.\n",
        "         It serves as a central repository for storing and managing data used by applications, systems, and users.\n",
        "There are 2 types of database systems :\n",
        "1. SQL : It stands for Structured Query Language. In SQL databases data are stored in the form of tables with predefined schema.\n",
        "          and data in those table is structured way means for all records, schema will be the same. These tables have fixed columns and column size\n",
        "          SQL databases typically provide ACID (Atomicity, Consistency, Isolation, Durability) properties, ensuring data integrity and transactional reliability\n",
        "          Example : MySQL, Oracle, PostgreSQL\n",
        "\n",
        "2. NoSQL :It stands for Not only Structured Query Language. These type of database systems are designed to handle unstructured, semi-structured, or rapidly changing data\n",
        "          In this, data is stored in the form of collection. Data is in the key value pair ( json or dictionary  format)\n",
        "          Data is unstructured. NoSQL Databases handle large amounts of data and high traffic loads\n",
        "          Example : MongoDB, Cassandra\n",
        "\n",
        "\"\"\""
      ]
    },
    {
      "cell_type": "code",
      "source": [
        "\"\"\"\n",
        "Q2. What is DDL? Explain why CREATE, DROP, ALTER, and TRUNCATE are used with an example.\n",
        "Ans : DDL stands for Data Definition Language. The DDL statements are auto commited. Below are the examples of DDL statements:\n",
        "    1. CREATE : This command is used to create a table/ function / procedure\n",
        "                 Example : CREATE TABLE students (\n",
        "                            id NUMBER,\n",
        "                            name VARCHAR2(100),\n",
        "                            email VARCHAR2(100)\n",
        "                            );\n",
        "    2. DROP : This command is used to drop the object (Table / function / procedure etc)\n",
        "                Example : DROP TABLE students;\n",
        "    3. ALTER : This command is used to ALTER or modify the structure of the table\n",
        "                Example : ALTER TABLE students ADD date_of_birth DATE;  -- This command will add date_of_birth column in students table\n",
        "    4. TRUNCATE : This command is used to delete all the data from the table:\n",
        "                Example : TRUNCATE TABLE students;\n",
        "\n",
        "\"\"\""
      ],
      "metadata": {
        "id": "ppfxE3401RhX"
      },
      "execution_count": null,
      "outputs": []
    },
    {
      "cell_type": "code",
      "source": [
        "\"\"\"\n",
        "Q3. What is DML? Explain INSERT, UPDATE, and DELETE with an example.\n",
        "Ans : DML stands for Data Manipulation Language. It is used to manipulate data within a database.\n",
        "      These statements required explicit COMMIT to commit the data in the table.\n",
        "      Below are the examples of DML statements:\n",
        "    1. INSERT: This command is used to insert the data in the table:\n",
        "              Example : INSERT INTO students\n",
        "                          (id, name, email)\n",
        "                        VALUES\n",
        "                          (1, 'Aniket' , 'aniket@gmail.com');\n",
        "\n",
        "    2. UPDATE: This command is used to update the specific value in the column in the table\n",
        "              Example : UPDATE students\n",
        "                          SET name = 'ANIKET'\n",
        "                        WHERE id = 1;\n",
        "    3. DELETE : This command is used to delete the data from the table\n",
        "              Example : DELETE FROM students WHERE id = 1;\n",
        "\n",
        "\"\"\"\n"
      ],
      "metadata": {
        "id": "FsVGRv_M2YAt"
      },
      "execution_count": 3,
      "outputs": []
    },
    {
      "cell_type": "code",
      "source": [
        "\"\"\"\n",
        "Q4. What is DQL? Explain SELECT with an example.\n",
        "Ans : DQL stands for Data Query Language. This command is used to view the data from the table. This command does not modify or manipulate the data inside the table\n",
        "    SELECT : This command is used to view the data from the table\n",
        "      Example : SELECT * FROM students;  -- Here * means display all columns\n",
        "                SELECT id, name FROM students  -- Here only id and name column data will be displayed\n",
        "\n",
        "\"\"\""
      ],
      "metadata": {
        "id": "fEBoQJRp3V8j"
      },
      "execution_count": 3,
      "outputs": []
    },
    {
      "cell_type": "code",
      "source": [
        "\"\"\"\n",
        "Q5. Explain Primary Key and Foreign Key.\n",
        "Ans :\n",
        "Primary Key : Primary key can be created on single or a group of columns. If primary key is created on any column then that column can contain only unique data\n",
        "              Null is also not allowed for primary key column.So it serves as a unique identifier and ensures that there are no duplicate or null values in the key columns\n",
        "              Primary keys are often used to establish relationships between tables. They can be referenced as foreign keys in other tables to create associations or enforce referential integrity\n",
        "              Example :\n",
        "                CREATE TABLE dept (\n",
        "                  dept_id INT PRIMARY KEY,\n",
        "                  dept_name VARCHAR(50)\n",
        "                );\n",
        "                In above example dept_id is the primary key for table dept.\n",
        "\n",
        "Foreign Key : A foreign key is also a column or a set of columns in a database table that refers to the primary key of another table\n",
        "              It is used to establish a relationship between two tables. There can be a null value in the foreign key column\n",
        "              The foreign key helps maintain consistency between related tables. It ensures that data in the child table corresponds to data in the parent table.\n",
        "              Example :\n",
        "                CREATE TABLE emp (\n",
        "                  emp_id INT PRIMARY KEY,\n",
        "                  emp_name VARCHAR(50),\n",
        "                  dept_id INT,\n",
        "                  FOREIGN KEY (dept_id) REFERENCES dept(dept_id)\n",
        "                );\n",
        "              in above table, dept_id is the foreign key of emp table and it refers to the dept_id column of dept table.\n",
        "              While inserting data into emp table the dept_id must be present  in the dept table otherwise data will not get inserted\n",
        "\n",
        "\"\"\""
      ],
      "metadata": {
        "id": "gLc87ADD3_bN"
      },
      "execution_count": null,
      "outputs": []
    },
    {
      "cell_type": "code",
      "source": [
        "\"\"\"\n",
        "Q6. Write a python code to connect MySQL to python. Explain the cursor() and execute() method.\n",
        "Ans : Below is the code to connect MySQL database to Python.\n",
        "mysql package must be imported first.\n",
        "then mysql.connector.connect method is uesd to establish the connection\n",
        "we can pass host, username and password to the above method so that python code will be connected to the MySQL database\n",
        "\n",
        "cursor() This method is used to create the cursor object. The cursor object allows us to execute SQL queries and fetch the results\n",
        "\n",
        "execute() This method is used to execute the query on the database\n",
        "\"\"\"\n",
        "import  mysql.connector as con\n",
        "\n",
        "conn = con.connect(host='localhost', username = 'abc', password = 'password', database = 'TEST')\n",
        "\n",
        "cursor = conn.cursor()\n",
        "\n",
        "cursor.execute('select * from students')\n",
        "\n",
        "for rec in cursor.fetchall():\n",
        "    print(rec)\n",
        "\n",
        "cursor.close()\n",
        "conn.close()\n"
      ],
      "metadata": {
        "id": "_3-gK34m3XQv"
      },
      "execution_count": null,
      "outputs": []
    },
    {
      "cell_type": "code",
      "source": [
        "\"\"\"\n",
        "Q7. Give the order of execution of SQL clauses in an SQL query.\n",
        "Ans : The order of execution of sql is as follows:\n",
        "FROM, JOIN, WHERE, GROUP By, HAVING,  SELECT, DISTINCT,ORDER BY, LIMIT\n",
        "\n",
        "Example:\n",
        "SELECT DISTINCT dept_name, COUNT(1) as num_of_emp_in_dept\n",
        "FROM emp\n",
        "JOIN dept ON emp.dept_id = dept.dept_id\n",
        "WHERE emp.salary > 100\n",
        "GROUP BY dept_name\n",
        "HAVING COUNT(1) > 5\n",
        "ORDER BY num_of_emp_in_dept DESC\n",
        "LIMIT 10;\n",
        "\"\"\""
      ],
      "metadata": {
        "id": "djXL8RD45m_H"
      },
      "execution_count": null,
      "outputs": []
    }
  ]
}
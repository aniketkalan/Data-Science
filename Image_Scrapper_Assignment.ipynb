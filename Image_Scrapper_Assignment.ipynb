{
  "nbformat": 4,
  "nbformat_minor": 0,
  "metadata": {
    "colab": {
      "provenance": []
    },
    "kernelspec": {
      "name": "python3",
      "display_name": "Python 3"
    },
    "language_info": {
      "name": "python"
    }
  },
  "cells": [
    {
      "cell_type": "code",
      "execution_count": 76,
      "metadata": {
        "id": "bDTwJ-8hoLzX"
      },
      "outputs": [],
      "source": [
        "\"\"\"\n",
        "Below code is common for all questions hence kept on top\n",
        "This piece of code will get all the videos informations on the given url\n",
        "\"\"\"\n",
        "\n",
        "import requests\n",
        "from bs4 import BeautifulSoup\n",
        "from urllib.request import urlopen\n",
        "import json\n",
        "\n",
        "youtube = \"https://www.youtube.com\"\n",
        "url = \"https://www.youtube.com/@PW-Foundation/videos\"\n",
        "\n",
        "response = urlopen(url)\n",
        "\n",
        "# Parse the HTML content using BeautifulSoup\n",
        "soup = BeautifulSoup(response, \"html.parser\")\n",
        "\n",
        "list1 = soup.find_all('script')\n",
        "#print(len(list1))\n",
        "for l in list1:\n",
        "  if 'var ytInitialData' in l.text:\n",
        "    script_data  = l.text.replace('var ytInitialData = ','')[:-1]\n",
        "#print(script_data)\n",
        "json_objects = json.loads(script_data)\n",
        "#print(json_objects)\n",
        "#print(json_objects['contents'])\n",
        "contents = json_objects['contents']['twoColumnBrowseResultsRenderer']['tabs'][1]['tabRenderer']['content']['richGridRenderer']['contents']\n",
        "videos = []\n",
        "for content in contents:\n",
        "  try:\n",
        "    each_video = content['richItemRenderer']['content']['videoRenderer']\n",
        "    #print(each_video)\n",
        "    videos.append(each_video)\n",
        "  except Exception as e:\n",
        "    pass"
      ]
    },
    {
      "cell_type": "code",
      "source": [
        "\"\"\"\n",
        "Q1. Write a python program to extract the video URL of the first five videos.\n",
        "\"\"\"\n",
        "# every video is present in variable \"videos\" from above code\n",
        "#print(videos)\n",
        "for i in range (5):\n",
        "  output = videos[i]['navigationEndpoint']['commandMetadata']['webCommandMetadata']['url']\n",
        "  print(youtube + output)"
      ],
      "metadata": {
        "colab": {
          "base_uri": "https://localhost:8080/"
        },
        "id": "fvclBepKVaS9",
        "outputId": "2e0a5891-2841-4830-bb27-6f7b435002e7"
      },
      "execution_count": 77,
      "outputs": [
        {
          "output_type": "stream",
          "name": "stdout",
          "text": [
            "https://www.youtube.com/watch?v=KWXKegvNa-I\n",
            "https://www.youtube.com/watch?v=dArUpCasmnE\n",
            "https://www.youtube.com/watch?v=HqG2QchBw8Y\n",
            "https://www.youtube.com/watch?v=1izKrQHyx9M\n",
            "https://www.youtube.com/watch?v=jXAb1evxaJc\n"
          ]
        }
      ]
    },
    {
      "cell_type": "code",
      "source": [
        "\"\"\"\n",
        "Q2. Write a python program to extract the URL of the video thumbnails of the first five videos.\n",
        "\"\"\"\n",
        "# every video is present in variable \"videos\" from above code\n",
        "#print(videos)\n",
        "for i in range (5):\n",
        "  output = videos[i]['thumbnail']['thumbnails'][3]['url']\n",
        "  print( output)"
      ],
      "metadata": {
        "colab": {
          "base_uri": "https://localhost:8080/"
        },
        "id": "eobDZenDWh1_",
        "outputId": "38ed7d2d-6fc5-4d75-85d2-bc588b116487"
      },
      "execution_count": 78,
      "outputs": [
        {
          "output_type": "stream",
          "name": "stdout",
          "text": [
            "https://i.ytimg.com/vi/KWXKegvNa-I/hqdefault.jpg?sqp=-oaymwEjCNACELwBSFryq4qpAxUIARUAAAAAGAElAADIQj0AgKJDeAE=&rs=AOn4CLDmSg3HSTm6r9HO6jbtt6X2k60Vhg\n",
            "https://i.ytimg.com/vi/dArUpCasmnE/hqdefault.jpg?sqp=-oaymwEjCNACELwBSFryq4qpAxUIARUAAAAAGAElAADIQj0AgKJDeAE=&rs=AOn4CLBZooZVux6hi4Pe2o44xgW0ZidzdA\n",
            "https://i.ytimg.com/vi/HqG2QchBw8Y/hqdefault.jpg?sqp=-oaymwEjCNACELwBSFryq4qpAxUIARUAAAAAGAElAADIQj0AgKJDeAE=&rs=AOn4CLCCZpClghOPGpOOQ8S40M4xsoAeAA\n",
            "https://i.ytimg.com/vi/1izKrQHyx9M/hqdefault.jpg?sqp=-oaymwEjCNACELwBSFryq4qpAxUIARUAAAAAGAElAADIQj0AgKJDeAE=&rs=AOn4CLBGtmz4N3ui0L2WZs2S7qHvnIwQmQ\n",
            "https://i.ytimg.com/vi/jXAb1evxaJc/hqdefault.jpg?sqp=-oaymwEjCNACELwBSFryq4qpAxUIARUAAAAAGAElAADIQj0AgKJDeAE=&rs=AOn4CLDmeiri9cimEVHPiAh5ootidgIzIg\n"
          ]
        }
      ]
    },
    {
      "cell_type": "code",
      "source": [
        "\"\"\"\n",
        "Q3. Write a python program to extract the title of the first five videos.\n",
        "\"\"\"\n",
        "# every video is present in variable \"videos\" from above code\n",
        "#print(videos)\n",
        "for i in range (5):\n",
        "  output = videos[i]['title']['runs'][0]['text']\n",
        "  print( output)"
      ],
      "metadata": {
        "colab": {
          "base_uri": "https://localhost:8080/"
        },
        "id": "llkduc6yYX8Y",
        "outputId": "4da2315e-a61c-4206-f35c-38eb2e4adb01"
      },
      "execution_count": 79,
      "outputs": [
        {
          "output_type": "stream",
          "name": "stdout",
          "text": [
            "Something Big Coming Soon For Class - 9th & 10th Students 🔥 || Stay Tuned For More Updates 🖋️\n",
            "Launching PAHAL Batch 🔥 For Class 11th Arts Students 💪\n",
            "Launching FUNDO For Class - 6th to 8th Students 🔥💯 || Ab Hoga Padhai Ke Sath FUN 🤩\n",
            "⚡Unleashing the Power of PW Internationally⚡| Launching Physics Wallah Gulf\n",
            "Big Announcement for Gulf Region Aspirants 🔥| Physics Wallah Gulf Channel Trailer🚀\n"
          ]
        }
      ]
    },
    {
      "cell_type": "code",
      "source": [
        "\"\"\"\n",
        "Q4. Write a python program to extract the number of views of the first five videos.\n",
        "\"\"\"\n",
        "# every video is present in variable \"videos\" from above code\n",
        "#print(videos)\n",
        "for i in range (5):\n",
        "  output = videos[i]['viewCountText']['simpleText']\n",
        "  print( output)"
      ],
      "metadata": {
        "colab": {
          "base_uri": "https://localhost:8080/"
        },
        "id": "6-8akqdsYiXX",
        "outputId": "ac6dc7ed-0677-4697-dd0e-5f69b7e62e8a"
      },
      "execution_count": 80,
      "outputs": [
        {
          "output_type": "stream",
          "name": "stdout",
          "text": [
            "27,890 views\n",
            "28,461 views\n",
            "24,532 views\n",
            "68,923 views\n",
            "98,808 views\n"
          ]
        }
      ]
    },
    {
      "cell_type": "code",
      "source": [
        "\"\"\"\n",
        "Q5. Write a python program to extract the time of posting of video for the first five videos.\n",
        "\"\"\"\n",
        "# every video is present in variable \"videos\" from above code\n",
        "#print(videos)\n",
        "for i in range (5):\n",
        "  output = videos[i]['publishedTimeText']['simpleText']\n",
        "  print( output)"
      ],
      "metadata": {
        "colab": {
          "base_uri": "https://localhost:8080/"
        },
        "id": "PrGF6YsKZKdm",
        "outputId": "a27a1cba-3dfa-42fb-d1e8-2736e09c88a5"
      },
      "execution_count": 81,
      "outputs": [
        {
          "output_type": "stream",
          "name": "stdout",
          "text": [
            "5 days ago\n",
            "12 days ago\n",
            "2 weeks ago\n",
            "1 month ago\n",
            "1 month ago\n"
          ]
        }
      ]
    },
    {
      "cell_type": "code",
      "source": [],
      "metadata": {
        "id": "x495hVhTaQWi"
      },
      "execution_count": null,
      "outputs": []
    }
  ]
}